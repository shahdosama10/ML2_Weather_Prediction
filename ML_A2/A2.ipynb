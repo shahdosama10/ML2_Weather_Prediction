{
<<<<<<< HEAD
 "cells": [
  {
   "cell_type": "code",
   "execution_count": 1,
   "metadata": {},
   "outputs": [],
   "source": [
    "import pandas as pd\n",
    "import seaborn as sns\n",
    "import matplotlib.pyplot as plt\n",
    "from sklearn.preprocessing import RobustScaler\n",
    "from sklearn.model_selection import train_test_split\n",
    "import numpy as np\n",
    "from sklearn.preprocessing import LabelEncoder"
   ]
  },
  {
   "cell_type": "markdown",
   "metadata": {},
   "source": [
    "## Task 1: Preprocessing"
   ]
  },
  {
   "cell_type": "markdown",
   "metadata": {},
   "source": [
    ">#### load 'weather_forecast_data.csv' dataset"
   ]
  },
  {
   "cell_type": "code",
   "execution_count": 2,
   "metadata": {},
   "outputs": [],
   "source": [
    "df = pd.read_csv('weather_forecast_data.csv')"
   ]
  },
  {
   "cell_type": "code",
   "execution_count": 3,
   "metadata": {},
   "outputs": [],
   "source": [
    "# get copy from the original to preprocess\n",
    "\n",
    "df_pre = df.copy()"
   ]
  },
  {
   "cell_type": "markdown",
   "metadata": {},
   "source": [
    ">#### check missing values"
   ]
  },
  {
   "cell_type": "code",
   "execution_count": 4,
   "metadata": {},
   "outputs": [
    {
     "name": "stdout",
     "output_type": "stream",
     "text": [
      "total records: 2500 \n",
      "\n",
      "missing records in each column: \n",
      "\n",
      "Temperature    25\n",
      "Humidity       40\n",
      "Wind_Speed     32\n",
      "Cloud_Cover    33\n",
      "Pressure       27\n",
      "Rain            0\n",
      "dtype: int64\n",
      "--------------------------------------------------------------------------------\n",
      "Records with null values:  \n",
      "\n",
      "      Temperature   Humidity  Wind_Speed  Cloud_Cover     Pressure     Rain\n",
      "8             NaN  89.077804    4.842197    83.941093  1029.932706  no rain\n",
      "25      26.420959  72.283460         NaN     0.812305  1018.818494  no rain\n",
      "59      11.069078  89.683583    5.804538          NaN   992.303157  no rain\n",
      "68            NaN  58.981077    6.261278    37.580222  1019.684713  no rain\n",
      "74      33.078976  81.000650    5.744880    86.933978          NaN  no rain\n",
      "...           ...        ...         ...          ...          ...      ...\n",
      "2429          NaN  93.920582   13.302477    90.346087   998.183246     rain\n",
      "2436    16.838551  86.248171   13.326615          NaN  1004.497445     rain\n",
      "2445    14.279301        NaN   19.789469    95.934640  1031.653350     rain\n",
      "2446    13.695217  95.727543         NaN    65.020145   983.800057     rain\n",
      "2483    17.449257  70.094641         NaN    64.609907  1041.623220     rain\n",
      "\n",
      "[153 rows x 6 columns]\n"
     ]
    }
   ],
   "source": [
    "# to know the number of the rows\n",
    "print(f\"total records:\",len(df), \"\\n\")\n",
    "\n",
    "\n",
    "# to get the number of missing values in each column\n",
    "print(\"missing records in each column:\",\"\\n\")\n",
    "print(df_pre.isnull().sum())\n",
    "\n",
    "print(\"-\"*80)\n",
    "\n",
    "print(\"Records with null values: \",\"\\n\")\n",
    "print(df_pre[df_pre.isnull().any(axis=1)])\n",
    "\n",
    "# according to the output there are missing values\n",
    "\n"
   ]
  },
  {
   "cell_type": "markdown",
   "metadata": {},
   "source": [
    ">#### Handle missing values with dropping them"
   ]
  },
  {
   "cell_type": "code",
   "execution_count": 5,
   "metadata": {},
   "outputs": [
    {
     "name": "stdout",
     "output_type": "stream",
     "text": [
      "total records without nulls: 2347 \n",
      "\n"
     ]
    },
    {
     "data": {
      "text/html": [
       "<div>\n",
       "<style scoped>\n",
       "    .dataframe tbody tr th:only-of-type {\n",
       "        vertical-align: middle;\n",
       "    }\n",
       "\n",
       "    .dataframe tbody tr th {\n",
       "        vertical-align: top;\n",
       "    }\n",
       "\n",
       "    .dataframe thead th {\n",
       "        text-align: right;\n",
       "    }\n",
       "</style>\n",
       "<table border=\"1\" class=\"dataframe\">\n",
       "  <thead>\n",
       "    <tr style=\"text-align: right;\">\n",
       "      <th></th>\n",
       "      <th>Temperature</th>\n",
       "      <th>Humidity</th>\n",
       "      <th>Wind_Speed</th>\n",
       "      <th>Cloud_Cover</th>\n",
       "      <th>Pressure</th>\n",
       "      <th>Rain</th>\n",
       "    </tr>\n",
       "  </thead>\n",
       "  <tbody>\n",
       "    <tr>\n",
       "      <th>0</th>\n",
       "      <td>19.096119</td>\n",
       "      <td>71.651723</td>\n",
       "      <td>14.782324</td>\n",
       "      <td>48.699257</td>\n",
       "      <td>987.954760</td>\n",
       "      <td>no rain</td>\n",
       "    </tr>\n",
       "    <tr>\n",
       "      <th>1</th>\n",
       "      <td>27.112464</td>\n",
       "      <td>84.183705</td>\n",
       "      <td>13.289986</td>\n",
       "      <td>10.375646</td>\n",
       "      <td>1035.430870</td>\n",
       "      <td>no rain</td>\n",
       "    </tr>\n",
       "    <tr>\n",
       "      <th>2</th>\n",
       "      <td>20.433329</td>\n",
       "      <td>42.290424</td>\n",
       "      <td>7.216295</td>\n",
       "      <td>6.673307</td>\n",
       "      <td>1033.628086</td>\n",
       "      <td>no rain</td>\n",
       "    </tr>\n",
       "    <tr>\n",
       "      <th>3</th>\n",
       "      <td>19.576659</td>\n",
       "      <td>40.679280</td>\n",
       "      <td>4.568833</td>\n",
       "      <td>55.026758</td>\n",
       "      <td>1038.832300</td>\n",
       "      <td>no rain</td>\n",
       "    </tr>\n",
       "    <tr>\n",
       "      <th>4</th>\n",
       "      <td>19.828060</td>\n",
       "      <td>93.353211</td>\n",
       "      <td>0.104489</td>\n",
       "      <td>30.687566</td>\n",
       "      <td>1009.423717</td>\n",
       "      <td>no rain</td>\n",
       "    </tr>\n",
       "  </tbody>\n",
       "</table>\n",
       "</div>"
      ],
      "text/plain": [
       "   Temperature   Humidity  Wind_Speed  Cloud_Cover     Pressure     Rain\n",
       "0    19.096119  71.651723   14.782324    48.699257   987.954760  no rain\n",
       "1    27.112464  84.183705   13.289986    10.375646  1035.430870  no rain\n",
       "2    20.433329  42.290424    7.216295     6.673307  1033.628086  no rain\n",
       "3    19.576659  40.679280    4.568833    55.026758  1038.832300  no rain\n",
       "4    19.828060  93.353211    0.104489    30.687566  1009.423717  no rain"
      ]
     },
     "execution_count": 5,
     "metadata": {},
     "output_type": "execute_result"
    }
   ],
   "source": [
    "\n",
    "df_dropped_nulls= df_pre.dropna()\n",
    "print(f\"total records without nulls:\",len(df_dropped_nulls), \"\\n\")\n",
    "\n",
    "df_dropped_nulls.head()"
   ]
  },
  {
   "cell_type": "markdown",
   "metadata": {},
   "source": [
    ">#### Handle missing values with replacing them with Avg"
   ]
  },
  {
   "cell_type": "code",
   "execution_count": 6,
   "metadata": {},
   "outputs": [
    {
     "name": "stdout",
     "output_type": "stream",
     "text": [
      "DataFrame after replacing null values with the average:\n",
      "      Temperature   Humidity  Wind_Speed  Cloud_Cover     Pressure     Rain\n",
      "0       19.096119  71.651723   14.782324    48.699257   987.954760  no rain\n",
      "1       27.112464  84.183705   13.289986    10.375646  1035.430870  no rain\n",
      "2       20.433329  42.290424    7.216295     6.673307  1033.628086  no rain\n",
      "3       19.576659  40.679280    4.568833    55.026758  1038.832300  no rain\n",
      "4       19.828060  93.353211    0.104489    30.687566  1009.423717  no rain\n",
      "...           ...        ...         ...          ...          ...      ...\n",
      "2495    14.684023  82.054139    8.751728    58.939058  1003.418337     rain\n",
      "2496    20.754521  92.099534   17.305508    70.889921  1049.801435     rain\n",
      "2497    22.087516  71.530065    0.857918    84.162554  1039.664865     rain\n",
      "2498    18.542453  97.451961    5.429309    54.643893  1014.769130     rain\n",
      "2499    23.720338  89.592641    7.335604    50.501694  1032.378759     rain\n",
      "\n",
      "[2500 rows x 6 columns]\n"
     ]
    }
   ],
   "source": [
    "\n",
    "# get the numerical features only because we can't get mean for categorical feature\n",
    "\n",
    "df_numerical_features_only=df_pre.select_dtypes(include=\"number\")\n",
    "\n",
    "\n",
    "# replace the null values with the average of the numerical features\n",
    "\n",
    "df_numerical_filled_avg = df_numerical_features_only.fillna(df_numerical_features_only.mean())\n",
    "\n",
    "\n",
    "# concatenate the numerical features with the target column \"Rain\" and create a new dataframe \"df_filledAvg\"\n",
    "\n",
    "df_filled_avg=pd.concat([df_numerical_filled_avg,df_pre[\"Rain\"]], axis=1)\n",
    "\n",
    "\n",
    "print(\"DataFrame after replacing null values with the average:\")\n",
    "print(df_filled_avg)"
   ]
  },
  {
   "cell_type": "markdown",
   "metadata": {},
   "source": [
    ">#### determine targets & features"
   ]
  },
  {
   "cell_type": "code",
   "execution_count": 7,
   "metadata": {},
   "outputs": [
    {
     "name": "stdout",
     "output_type": "stream",
     "text": [
      "Avg data:\n"
     ]
    },
    {
     "data": {
      "text/html": [
       "<div>\n",
       "<style scoped>\n",
       "    .dataframe tbody tr th:only-of-type {\n",
       "        vertical-align: middle;\n",
       "    }\n",
       "\n",
       "    .dataframe tbody tr th {\n",
       "        vertical-align: top;\n",
       "    }\n",
       "\n",
       "    .dataframe thead th {\n",
       "        text-align: right;\n",
       "    }\n",
       "</style>\n",
       "<table border=\"1\" class=\"dataframe\">\n",
       "  <thead>\n",
       "    <tr style=\"text-align: right;\">\n",
       "      <th></th>\n",
       "      <th>Temperature</th>\n",
       "      <th>Humidity</th>\n",
       "      <th>Wind_Speed</th>\n",
       "      <th>Cloud_Cover</th>\n",
       "      <th>Pressure</th>\n",
       "    </tr>\n",
       "  </thead>\n",
       "  <tbody>\n",
       "    <tr>\n",
       "      <th>0</th>\n",
       "      <td>19.096119</td>\n",
       "      <td>71.651723</td>\n",
       "      <td>14.782324</td>\n",
       "      <td>48.699257</td>\n",
       "      <td>987.954760</td>\n",
       "    </tr>\n",
       "    <tr>\n",
       "      <th>1</th>\n",
       "      <td>27.112464</td>\n",
       "      <td>84.183705</td>\n",
       "      <td>13.289986</td>\n",
       "      <td>10.375646</td>\n",
       "      <td>1035.430870</td>\n",
       "    </tr>\n",
       "    <tr>\n",
       "      <th>2</th>\n",
       "      <td>20.433329</td>\n",
       "      <td>42.290424</td>\n",
       "      <td>7.216295</td>\n",
       "      <td>6.673307</td>\n",
       "      <td>1033.628086</td>\n",
       "    </tr>\n",
       "    <tr>\n",
       "      <th>3</th>\n",
       "      <td>19.576659</td>\n",
       "      <td>40.679280</td>\n",
       "      <td>4.568833</td>\n",
       "      <td>55.026758</td>\n",
       "      <td>1038.832300</td>\n",
       "    </tr>\n",
       "    <tr>\n",
       "      <th>4</th>\n",
       "      <td>19.828060</td>\n",
       "      <td>93.353211</td>\n",
       "      <td>0.104489</td>\n",
       "      <td>30.687566</td>\n",
       "      <td>1009.423717</td>\n",
       "    </tr>\n",
       "  </tbody>\n",
       "</table>\n",
       "</div>"
      ],
      "text/plain": [
       "   Temperature   Humidity  Wind_Speed  Cloud_Cover     Pressure\n",
       "0    19.096119  71.651723   14.782324    48.699257   987.954760\n",
       "1    27.112464  84.183705   13.289986    10.375646  1035.430870\n",
       "2    20.433329  42.290424    7.216295     6.673307  1033.628086\n",
       "3    19.576659  40.679280    4.568833    55.026758  1038.832300\n",
       "4    19.828060  93.353211    0.104489    30.687566  1009.423717"
      ]
     },
     "metadata": {},
     "output_type": "display_data"
    },
    {
     "data": {
      "text/html": [
       "<div>\n",
       "<style scoped>\n",
       "    .dataframe tbody tr th:only-of-type {\n",
       "        vertical-align: middle;\n",
       "    }\n",
       "\n",
       "    .dataframe tbody tr th {\n",
       "        vertical-align: top;\n",
       "    }\n",
       "\n",
       "    .dataframe thead th {\n",
       "        text-align: right;\n",
       "    }\n",
       "</style>\n",
       "<table border=\"1\" class=\"dataframe\">\n",
       "  <thead>\n",
       "    <tr style=\"text-align: right;\">\n",
       "      <th></th>\n",
       "      <th>Rain</th>\n",
       "    </tr>\n",
       "  </thead>\n",
       "  <tbody>\n",
       "    <tr>\n",
       "      <th>0</th>\n",
       "      <td>no rain</td>\n",
       "    </tr>\n",
       "    <tr>\n",
       "      <th>1</th>\n",
       "      <td>no rain</td>\n",
       "    </tr>\n",
       "    <tr>\n",
       "      <th>2</th>\n",
       "      <td>no rain</td>\n",
       "    </tr>\n",
       "    <tr>\n",
       "      <th>3</th>\n",
       "      <td>no rain</td>\n",
       "    </tr>\n",
       "    <tr>\n",
       "      <th>4</th>\n",
       "      <td>no rain</td>\n",
       "    </tr>\n",
       "  </tbody>\n",
       "</table>\n",
       "</div>"
      ],
      "text/plain": [
       "      Rain\n",
       "0  no rain\n",
       "1  no rain\n",
       "2  no rain\n",
       "3  no rain\n",
       "4  no rain"
      ]
     },
     "metadata": {},
     "output_type": "display_data"
    },
    {
     "name": "stdout",
     "output_type": "stream",
     "text": [
      "Dropped nulls data:\n"
     ]
    },
    {
     "data": {
      "text/html": [
       "<div>\n",
       "<style scoped>\n",
       "    .dataframe tbody tr th:only-of-type {\n",
       "        vertical-align: middle;\n",
       "    }\n",
       "\n",
       "    .dataframe tbody tr th {\n",
       "        vertical-align: top;\n",
       "    }\n",
       "\n",
       "    .dataframe thead th {\n",
       "        text-align: right;\n",
       "    }\n",
       "</style>\n",
       "<table border=\"1\" class=\"dataframe\">\n",
       "  <thead>\n",
       "    <tr style=\"text-align: right;\">\n",
       "      <th></th>\n",
       "      <th>Temperature</th>\n",
       "      <th>Humidity</th>\n",
       "      <th>Wind_Speed</th>\n",
       "      <th>Cloud_Cover</th>\n",
       "      <th>Pressure</th>\n",
       "    </tr>\n",
       "  </thead>\n",
       "  <tbody>\n",
       "    <tr>\n",
       "      <th>0</th>\n",
       "      <td>19.096119</td>\n",
       "      <td>71.651723</td>\n",
       "      <td>14.782324</td>\n",
       "      <td>48.699257</td>\n",
       "      <td>987.954760</td>\n",
       "    </tr>\n",
       "    <tr>\n",
       "      <th>1</th>\n",
       "      <td>27.112464</td>\n",
       "      <td>84.183705</td>\n",
       "      <td>13.289986</td>\n",
       "      <td>10.375646</td>\n",
       "      <td>1035.430870</td>\n",
       "    </tr>\n",
       "    <tr>\n",
       "      <th>2</th>\n",
       "      <td>20.433329</td>\n",
       "      <td>42.290424</td>\n",
       "      <td>7.216295</td>\n",
       "      <td>6.673307</td>\n",
       "      <td>1033.628086</td>\n",
       "    </tr>\n",
       "    <tr>\n",
       "      <th>3</th>\n",
       "      <td>19.576659</td>\n",
       "      <td>40.679280</td>\n",
       "      <td>4.568833</td>\n",
       "      <td>55.026758</td>\n",
       "      <td>1038.832300</td>\n",
       "    </tr>\n",
       "    <tr>\n",
       "      <th>4</th>\n",
       "      <td>19.828060</td>\n",
       "      <td>93.353211</td>\n",
       "      <td>0.104489</td>\n",
       "      <td>30.687566</td>\n",
       "      <td>1009.423717</td>\n",
       "    </tr>\n",
       "  </tbody>\n",
       "</table>\n",
       "</div>"
      ],
      "text/plain": [
       "   Temperature   Humidity  Wind_Speed  Cloud_Cover     Pressure\n",
       "0    19.096119  71.651723   14.782324    48.699257   987.954760\n",
       "1    27.112464  84.183705   13.289986    10.375646  1035.430870\n",
       "2    20.433329  42.290424    7.216295     6.673307  1033.628086\n",
       "3    19.576659  40.679280    4.568833    55.026758  1038.832300\n",
       "4    19.828060  93.353211    0.104489    30.687566  1009.423717"
      ]
     },
     "metadata": {},
     "output_type": "display_data"
    },
    {
     "data": {
      "text/html": [
       "<div>\n",
       "<style scoped>\n",
       "    .dataframe tbody tr th:only-of-type {\n",
       "        vertical-align: middle;\n",
       "    }\n",
       "\n",
       "    .dataframe tbody tr th {\n",
       "        vertical-align: top;\n",
       "    }\n",
       "\n",
       "    .dataframe thead th {\n",
       "        text-align: right;\n",
       "    }\n",
       "</style>\n",
       "<table border=\"1\" class=\"dataframe\">\n",
       "  <thead>\n",
       "    <tr style=\"text-align: right;\">\n",
       "      <th></th>\n",
       "      <th>Rain</th>\n",
       "    </tr>\n",
       "  </thead>\n",
       "  <tbody>\n",
       "    <tr>\n",
       "      <th>0</th>\n",
       "      <td>no rain</td>\n",
       "    </tr>\n",
       "    <tr>\n",
       "      <th>1</th>\n",
       "      <td>no rain</td>\n",
       "    </tr>\n",
       "    <tr>\n",
       "      <th>2</th>\n",
       "      <td>no rain</td>\n",
       "    </tr>\n",
       "    <tr>\n",
       "      <th>3</th>\n",
       "      <td>no rain</td>\n",
       "    </tr>\n",
       "    <tr>\n",
       "      <th>4</th>\n",
       "      <td>no rain</td>\n",
       "    </tr>\n",
       "  </tbody>\n",
       "</table>\n",
       "</div>"
      ],
      "text/plain": [
       "      Rain\n",
       "0  no rain\n",
       "1  no rain\n",
       "2  no rain\n",
       "3  no rain\n",
       "4  no rain"
      ]
     },
     "metadata": {},
     "output_type": "display_data"
    }
   ],
   "source": [
    "targets_columns=[\"Rain\"]\n",
    "\n",
    "df_targets_filled_avg = df_filled_avg[targets_columns]\n",
    "df_features_filled_avg = df_filled_avg.drop(columns=targets_columns)\n",
    "\n",
    "df_targets_dropped_nulls = df_dropped_nulls[targets_columns]\n",
    "df_features_dropped_nulls = df_dropped_nulls.drop(columns=targets_columns)\n",
    "\n",
    "print(\"Avg data:\")\n",
    "display(df_features_filled_avg.head())\n",
    "display(df_targets_filled_avg.head())\n",
    "\n",
    "print(\"Dropped nulls data:\")\n",
    "display(df_features_dropped_nulls.head())\n",
    "display(df_targets_dropped_nulls.head())\n"
   ]
  },
  {
   "cell_type": "markdown",
   "metadata": {},
   "source": [
    ">#### splitting data into train , test"
   ]
  },
  {
   "cell_type": "code",
   "execution_count": 8,
   "metadata": {},
   "outputs": [
    {
     "name": "stdout",
     "output_type": "stream",
     "text": [
      "2000\n",
      "500\n",
      "2000\n",
      "500\n",
      "1877\n",
      "470\n",
      "1877\n",
      "470\n"
     ]
    }
   ],
   "source": [
    "\n",
    "# make the 80% from the data training set and 20% from the data testing set\n",
    "# random state to ensure that the split return the same data each run\n",
    "\n",
    "df_features_train_avg, df_features_test_avg, df_targets_train_avg, df_targets_test_avg = train_test_split(df_features_filled_avg, df_targets_filled_avg, test_size=0.2, random_state=42) \n",
    "df_features_train_dropped, df_features_test_dropped, df_targets_train_dropped, df_targets_test_dropped = train_test_split(df_features_dropped_nulls, df_targets_dropped_nulls, test_size=0.2, random_state=42) \n",
    "\n",
    "print(len(df_features_train_avg))\n",
    "print(len(df_features_test_avg))\n",
    "print(len(df_targets_train_avg))\n",
    "print(len(df_targets_test_avg))\n",
    "\n",
    "print(len(df_features_train_dropped))\n",
    "print(len(df_features_test_dropped))\n",
    "print(len(df_targets_train_dropped))\n",
    "print(len(df_targets_test_dropped))\n"
   ]
  },
  {
   "cell_type": "code",
   "execution_count": 9,
   "metadata": {},
   "outputs": [
    {
     "name": "stderr",
     "output_type": "stream",
     "text": [
      "c:\\Users\\T\\anaconda3\\Lib\\site-packages\\sklearn\\preprocessing\\_label.py:116: DataConversionWarning: A column-vector y was passed when a 1d array was expected. Please change the shape of y to (n_samples, ), for example using ravel().\n",
      "  y = column_or_1d(y, warn=True)\n",
      "c:\\Users\\T\\anaconda3\\Lib\\site-packages\\sklearn\\preprocessing\\_label.py:134: DataConversionWarning: A column-vector y was passed when a 1d array was expected. Please change the shape of y to (n_samples, ), for example using ravel().\n",
      "  y = column_or_1d(y, dtype=self.classes_.dtype, warn=True)\n",
      "c:\\Users\\T\\anaconda3\\Lib\\site-packages\\sklearn\\preprocessing\\_label.py:116: DataConversionWarning: A column-vector y was passed when a 1d array was expected. Please change the shape of y to (n_samples, ), for example using ravel().\n",
      "  y = column_or_1d(y, warn=True)\n",
      "c:\\Users\\T\\anaconda3\\Lib\\site-packages\\sklearn\\preprocessing\\_label.py:134: DataConversionWarning: A column-vector y was passed when a 1d array was expected. Please change the shape of y to (n_samples, ), for example using ravel().\n",
      "  y = column_or_1d(y, dtype=self.classes_.dtype, warn=True)\n"
     ]
    }
   ],
   "source": [
    "# final targets will be worked on \n",
    "\n",
    "label_encoder = LabelEncoder()\n",
    "df_targets_train_avg = label_encoder.fit_transform(df_targets_train_avg)\n",
    "df_targets_test_avg = label_encoder.transform(df_targets_test_avg)\n",
    "\n",
    "df_targets_train_dropped = label_encoder.fit_transform(df_targets_train_dropped)\n",
    "df_targets_test_dropped = label_encoder.transform(df_targets_test_dropped)"
   ]
  },
  {
   "cell_type": "markdown",
   "metadata": {},
   "source": [
    ">#### check scaling of data"
   ]
  },
  {
   "cell_type": "code",
   "execution_count": 10,
   "metadata": {},
   "outputs": [
    {
     "name": "stdout",
     "output_type": "stream",
     "text": [
      "filled avg data:\n"
     ]
    },
    {
     "data": {
      "text/html": [
       "<div>\n",
       "<style scoped>\n",
       "    .dataframe tbody tr th:only-of-type {\n",
       "        vertical-align: middle;\n",
       "    }\n",
       "\n",
       "    .dataframe tbody tr th {\n",
       "        vertical-align: top;\n",
       "    }\n",
       "\n",
       "    .dataframe thead th {\n",
       "        text-align: right;\n",
       "    }\n",
       "</style>\n",
       "<table border=\"1\" class=\"dataframe\">\n",
       "  <thead>\n",
       "    <tr style=\"text-align: right;\">\n",
       "      <th></th>\n",
       "      <th>count</th>\n",
       "      <th>mean</th>\n",
       "      <th>std</th>\n",
       "      <th>min</th>\n",
       "      <th>25%</th>\n",
       "      <th>50%</th>\n",
       "      <th>75%</th>\n",
       "      <th>max</th>\n",
       "    </tr>\n",
       "  </thead>\n",
       "  <tbody>\n",
       "    <tr>\n",
       "      <th>Temperature</th>\n",
       "      <td>2500.0</td>\n",
       "      <td>22.573777</td>\n",
       "      <td>7.295628</td>\n",
       "      <td>10.001842</td>\n",
       "      <td>16.417898</td>\n",
       "      <td>22.573777</td>\n",
       "      <td>28.934369</td>\n",
       "      <td>34.995214</td>\n",
       "    </tr>\n",
       "    <tr>\n",
       "      <th>Humidity</th>\n",
       "      <td>2500.0</td>\n",
       "      <td>64.366909</td>\n",
       "      <td>19.813325</td>\n",
       "      <td>30.005071</td>\n",
       "      <td>47.493987</td>\n",
       "      <td>64.366909</td>\n",
       "      <td>81.445049</td>\n",
       "      <td>99.997481</td>\n",
       "    </tr>\n",
       "    <tr>\n",
       "      <th>Wind_Speed</th>\n",
       "      <td>2500.0</td>\n",
       "      <td>9.911826</td>\n",
       "      <td>5.743575</td>\n",
       "      <td>0.009819</td>\n",
       "      <td>4.829795</td>\n",
       "      <td>9.911826</td>\n",
       "      <td>14.889660</td>\n",
       "      <td>19.999132</td>\n",
       "    </tr>\n",
       "    <tr>\n",
       "      <th>Cloud_Cover</th>\n",
       "      <td>2500.0</td>\n",
       "      <td>49.808770</td>\n",
       "      <td>28.869772</td>\n",
       "      <td>0.015038</td>\n",
       "      <td>24.817296</td>\n",
       "      <td>49.808770</td>\n",
       "      <td>74.989410</td>\n",
       "      <td>99.997795</td>\n",
       "    </tr>\n",
       "    <tr>\n",
       "      <th>Pressure</th>\n",
       "      <td>2500.0</td>\n",
       "      <td>1014.409327</td>\n",
       "      <td>20.072933</td>\n",
       "      <td>980.014486</td>\n",
       "      <td>997.190281</td>\n",
       "      <td>1014.095390</td>\n",
       "      <td>1031.606187</td>\n",
       "      <td>1049.985593</td>\n",
       "    </tr>\n",
       "  </tbody>\n",
       "</table>\n",
       "</div>"
      ],
      "text/plain": [
       "              count         mean        std         min         25%  \\\n",
       "Temperature  2500.0    22.573777   7.295628   10.001842   16.417898   \n",
       "Humidity     2500.0    64.366909  19.813325   30.005071   47.493987   \n",
       "Wind_Speed   2500.0     9.911826   5.743575    0.009819    4.829795   \n",
       "Cloud_Cover  2500.0    49.808770  28.869772    0.015038   24.817296   \n",
       "Pressure     2500.0  1014.409327  20.072933  980.014486  997.190281   \n",
       "\n",
       "                     50%          75%          max  \n",
       "Temperature    22.573777    28.934369    34.995214  \n",
       "Humidity       64.366909    81.445049    99.997481  \n",
       "Wind_Speed      9.911826    14.889660    19.999132  \n",
       "Cloud_Cover    49.808770    74.989410    99.997795  \n",
       "Pressure     1014.095390  1031.606187  1049.985593  "
      ]
     },
     "metadata": {},
     "output_type": "display_data"
    },
    {
     "name": "stdout",
     "output_type": "stream",
     "text": [
      "dropped nulls data:\n"
     ]
    },
    {
     "data": {
      "text/html": [
       "<div>\n",
       "<style scoped>\n",
       "    .dataframe tbody tr th:only-of-type {\n",
       "        vertical-align: middle;\n",
       "    }\n",
       "\n",
       "    .dataframe tbody tr th {\n",
       "        vertical-align: top;\n",
       "    }\n",
       "\n",
       "    .dataframe thead th {\n",
       "        text-align: right;\n",
       "    }\n",
       "</style>\n",
       "<table border=\"1\" class=\"dataframe\">\n",
       "  <thead>\n",
       "    <tr style=\"text-align: right;\">\n",
       "      <th></th>\n",
       "      <th>count</th>\n",
       "      <th>mean</th>\n",
       "      <th>std</th>\n",
       "      <th>min</th>\n",
       "      <th>25%</th>\n",
       "      <th>50%</th>\n",
       "      <th>75%</th>\n",
       "      <th>max</th>\n",
       "    </tr>\n",
       "  </thead>\n",
       "  <tbody>\n",
       "    <tr>\n",
       "      <th>Temperature</th>\n",
       "      <td>2347.0</td>\n",
       "      <td>22.586674</td>\n",
       "      <td>7.325814</td>\n",
       "      <td>10.001842</td>\n",
       "      <td>16.423651</td>\n",
       "      <td>22.533110</td>\n",
       "      <td>28.967040</td>\n",
       "      <td>34.995214</td>\n",
       "    </tr>\n",
       "    <tr>\n",
       "      <th>Humidity</th>\n",
       "      <td>2347.0</td>\n",
       "      <td>64.313486</td>\n",
       "      <td>19.969574</td>\n",
       "      <td>30.005071</td>\n",
       "      <td>47.124078</td>\n",
       "      <td>64.044753</td>\n",
       "      <td>81.607683</td>\n",
       "      <td>99.997481</td>\n",
       "    </tr>\n",
       "    <tr>\n",
       "      <th>Wind_Speed</th>\n",
       "      <td>2347.0</td>\n",
       "      <td>9.936976</td>\n",
       "      <td>5.778717</td>\n",
       "      <td>0.009819</td>\n",
       "      <td>4.786505</td>\n",
       "      <td>9.999957</td>\n",
       "      <td>14.955263</td>\n",
       "      <td>19.999132</td>\n",
       "    </tr>\n",
       "    <tr>\n",
       "      <th>Cloud_Cover</th>\n",
       "      <td>2347.0</td>\n",
       "      <td>49.826460</td>\n",
       "      <td>29.163519</td>\n",
       "      <td>0.015038</td>\n",
       "      <td>24.119752</td>\n",
       "      <td>49.735062</td>\n",
       "      <td>75.496921</td>\n",
       "      <td>99.997795</td>\n",
       "    </tr>\n",
       "    <tr>\n",
       "      <th>Pressure</th>\n",
       "      <td>2347.0</td>\n",
       "      <td>1014.362428</td>\n",
       "      <td>20.157864</td>\n",
       "      <td>980.014486</td>\n",
       "      <td>997.010203</td>\n",
       "      <td>1013.591009</td>\n",
       "      <td>1031.683526</td>\n",
       "      <td>1049.985593</td>\n",
       "    </tr>\n",
       "  </tbody>\n",
       "</table>\n",
       "</div>"
      ],
      "text/plain": [
       "              count         mean        std         min         25%  \\\n",
       "Temperature  2347.0    22.586674   7.325814   10.001842   16.423651   \n",
       "Humidity     2347.0    64.313486  19.969574   30.005071   47.124078   \n",
       "Wind_Speed   2347.0     9.936976   5.778717    0.009819    4.786505   \n",
       "Cloud_Cover  2347.0    49.826460  29.163519    0.015038   24.119752   \n",
       "Pressure     2347.0  1014.362428  20.157864  980.014486  997.010203   \n",
       "\n",
       "                     50%          75%          max  \n",
       "Temperature    22.533110    28.967040    34.995214  \n",
       "Humidity       64.044753    81.607683    99.997481  \n",
       "Wind_Speed      9.999957    14.955263    19.999132  \n",
       "Cloud_Cover    49.735062    75.496921    99.997795  \n",
       "Pressure     1013.591009  1031.683526  1049.985593  "
      ]
     },
     "metadata": {},
     "output_type": "display_data"
    }
   ],
   "source": [
    "\n",
    "print(\"filled avg data:\")\n",
    "display(df_filled_avg.describe().T)\n",
    "\n",
    "print(\"dropped nulls data:\")\n",
    "display(df_dropped_nulls.describe().T)\n",
    "\n",
    "# according to the output from min, max the numeric features dosn't have the same scale"
   ]
  },
  {
   "cell_type": "markdown",
   "metadata": {},
   "source": [
    ">#### features are scaled"
   ]
  },
  {
   "cell_type": "code",
   "execution_count": 11,
   "metadata": {},
   "outputs": [
    {
     "name": "stdout",
     "output_type": "stream",
     "text": [
      "Avg Features:\n"
     ]
    },
    {
     "data": {
      "text/html": [
       "<div>\n",
       "<style scoped>\n",
       "    .dataframe tbody tr th:only-of-type {\n",
       "        vertical-align: middle;\n",
       "    }\n",
       "\n",
       "    .dataframe tbody tr th {\n",
       "        vertical-align: top;\n",
       "    }\n",
       "\n",
       "    .dataframe thead th {\n",
       "        text-align: right;\n",
       "    }\n",
       "</style>\n",
       "<table border=\"1\" class=\"dataframe\">\n",
       "  <thead>\n",
       "    <tr style=\"text-align: right;\">\n",
       "      <th></th>\n",
       "      <th>count</th>\n",
       "      <th>mean</th>\n",
       "      <th>std</th>\n",
       "      <th>min</th>\n",
       "      <th>25%</th>\n",
       "      <th>50%</th>\n",
       "      <th>75%</th>\n",
       "      <th>max</th>\n",
       "    </tr>\n",
       "  </thead>\n",
       "  <tbody>\n",
       "    <tr>\n",
       "      <th>Temperature</th>\n",
       "      <td>2000.0</td>\n",
       "      <td>0.006984</td>\n",
       "      <td>0.585913</td>\n",
       "      <td>-1.007019</td>\n",
       "      <td>-0.480487</td>\n",
       "      <td>0.000000e+00</td>\n",
       "      <td>0.519513</td>\n",
       "      <td>0.994964</td>\n",
       "    </tr>\n",
       "    <tr>\n",
       "      <th>Humidity</th>\n",
       "      <td>2000.0</td>\n",
       "      <td>0.001713</td>\n",
       "      <td>0.583693</td>\n",
       "      <td>-1.016413</td>\n",
       "      <td>-0.498781</td>\n",
       "      <td>0.000000e+00</td>\n",
       "      <td>0.501219</td>\n",
       "      <td>1.053942</td>\n",
       "    </tr>\n",
       "    <tr>\n",
       "      <th>Wind_Speed</th>\n",
       "      <td>2000.0</td>\n",
       "      <td>0.002324</td>\n",
       "      <td>0.572086</td>\n",
       "      <td>-0.992389</td>\n",
       "      <td>-0.506319</td>\n",
       "      <td>8.814564e-17</td>\n",
       "      <td>0.493681</td>\n",
       "      <td>0.992458</td>\n",
       "    </tr>\n",
       "    <tr>\n",
       "      <th>Cloud_Cover</th>\n",
       "      <td>2000.0</td>\n",
       "      <td>-0.002409</td>\n",
       "      <td>0.579158</td>\n",
       "      <td>-1.002352</td>\n",
       "      <td>-0.500643</td>\n",
       "      <td>0.000000e+00</td>\n",
       "      <td>0.499357</td>\n",
       "      <td>1.009766</td>\n",
       "    </tr>\n",
       "    <tr>\n",
       "      <th>Pressure</th>\n",
       "      <td>2000.0</td>\n",
       "      <td>0.004320</td>\n",
       "      <td>0.576514</td>\n",
       "      <td>-0.983183</td>\n",
       "      <td>-0.495991</td>\n",
       "      <td>1.629339e-15</td>\n",
       "      <td>0.504009</td>\n",
       "      <td>1.022535</td>\n",
       "    </tr>\n",
       "  </tbody>\n",
       "</table>\n",
       "</div>"
      ],
      "text/plain": [
       "              count      mean       std       min       25%           50%  \\\n",
       "Temperature  2000.0  0.006984  0.585913 -1.007019 -0.480487  0.000000e+00   \n",
       "Humidity     2000.0  0.001713  0.583693 -1.016413 -0.498781  0.000000e+00   \n",
       "Wind_Speed   2000.0  0.002324  0.572086 -0.992389 -0.506319  8.814564e-17   \n",
       "Cloud_Cover  2000.0 -0.002409  0.579158 -1.002352 -0.500643  0.000000e+00   \n",
       "Pressure     2000.0  0.004320  0.576514 -0.983183 -0.495991  1.629339e-15   \n",
       "\n",
       "                  75%       max  \n",
       "Temperature  0.519513  0.994964  \n",
       "Humidity     0.501219  1.053942  \n",
       "Wind_Speed   0.493681  0.992458  \n",
       "Cloud_Cover  0.499357  1.009766  \n",
       "Pressure     0.504009  1.022535  "
      ]
     },
     "metadata": {},
     "output_type": "display_data"
    },
    {
     "data": {
      "text/html": [
       "<div>\n",
       "<style scoped>\n",
       "    .dataframe tbody tr th:only-of-type {\n",
       "        vertical-align: middle;\n",
       "    }\n",
       "\n",
       "    .dataframe tbody tr th {\n",
       "        vertical-align: top;\n",
       "    }\n",
       "\n",
       "    .dataframe thead th {\n",
       "        text-align: right;\n",
       "    }\n",
       "</style>\n",
       "<table border=\"1\" class=\"dataframe\">\n",
       "  <thead>\n",
       "    <tr style=\"text-align: right;\">\n",
       "      <th></th>\n",
       "      <th>count</th>\n",
       "      <th>mean</th>\n",
       "      <th>std</th>\n",
       "      <th>min</th>\n",
       "      <th>25%</th>\n",
       "      <th>50%</th>\n",
       "      <th>75%</th>\n",
       "      <th>max</th>\n",
       "    </tr>\n",
       "  </thead>\n",
       "  <tbody>\n",
       "    <tr>\n",
       "      <th>Temperature</th>\n",
       "      <td>500.0</td>\n",
       "      <td>0.048741</td>\n",
       "      <td>0.585102</td>\n",
       "      <td>-0.939351</td>\n",
       "      <td>-0.460734</td>\n",
       "      <td>-1.439820e-16</td>\n",
       "      <td>0.539266</td>\n",
       "      <td>1.082322</td>\n",
       "    </tr>\n",
       "    <tr>\n",
       "      <th>Humidity</th>\n",
       "      <td>500.0</td>\n",
       "      <td>0.030264</td>\n",
       "      <td>0.576656</td>\n",
       "      <td>-0.942682</td>\n",
       "      <td>-0.459049</td>\n",
       "      <td>1.014813e-16</td>\n",
       "      <td>0.540951</td>\n",
       "      <td>1.045610</td>\n",
       "    </tr>\n",
       "    <tr>\n",
       "      <th>Wind_Speed</th>\n",
       "      <td>500.0</td>\n",
       "      <td>0.018648</td>\n",
       "      <td>0.574834</td>\n",
       "      <td>-0.940526</td>\n",
       "      <td>-0.469767</td>\n",
       "      <td>9.028694e-17</td>\n",
       "      <td>0.530233</td>\n",
       "      <td>1.088083</td>\n",
       "    </tr>\n",
       "    <tr>\n",
       "      <th>Cloud_Cover</th>\n",
       "      <td>500.0</td>\n",
       "      <td>0.002007</td>\n",
       "      <td>0.560934</td>\n",
       "      <td>-0.951363</td>\n",
       "      <td>-0.510561</td>\n",
       "      <td>6.852158e-17</td>\n",
       "      <td>0.489439</td>\n",
       "      <td>0.954122</td>\n",
       "    </tr>\n",
       "    <tr>\n",
       "      <th>Pressure</th>\n",
       "      <td>500.0</td>\n",
       "      <td>0.030484</td>\n",
       "      <td>0.609338</td>\n",
       "      <td>-1.012243</td>\n",
       "      <td>-0.457310</td>\n",
       "      <td>-1.737542e-15</td>\n",
       "      <td>0.542690</td>\n",
       "      <td>1.122439</td>\n",
       "    </tr>\n",
       "  </tbody>\n",
       "</table>\n",
       "</div>"
      ],
      "text/plain": [
       "             count      mean       std       min       25%           50%  \\\n",
       "Temperature  500.0  0.048741  0.585102 -0.939351 -0.460734 -1.439820e-16   \n",
       "Humidity     500.0  0.030264  0.576656 -0.942682 -0.459049  1.014813e-16   \n",
       "Wind_Speed   500.0  0.018648  0.574834 -0.940526 -0.469767  9.028694e-17   \n",
       "Cloud_Cover  500.0  0.002007  0.560934 -0.951363 -0.510561  6.852158e-17   \n",
       "Pressure     500.0  0.030484  0.609338 -1.012243 -0.457310 -1.737542e-15   \n",
       "\n",
       "                  75%       max  \n",
       "Temperature  0.539266  1.082322  \n",
       "Humidity     0.540951  1.045610  \n",
       "Wind_Speed   0.530233  1.088083  \n",
       "Cloud_Cover  0.489439  0.954122  \n",
       "Pressure     0.542690  1.122439  "
      ]
     },
     "metadata": {},
     "output_type": "display_data"
    },
    {
     "name": "stdout",
     "output_type": "stream",
     "text": [
      "Dropped Nulls Features:\n"
     ]
    },
    {
     "data": {
      "text/html": [
       "<div>\n",
       "<style scoped>\n",
       "    .dataframe tbody tr th:only-of-type {\n",
       "        vertical-align: middle;\n",
       "    }\n",
       "\n",
       "    .dataframe tbody tr th {\n",
       "        vertical-align: top;\n",
       "    }\n",
       "\n",
       "    .dataframe thead th {\n",
       "        text-align: right;\n",
       "    }\n",
       "</style>\n",
       "<table border=\"1\" class=\"dataframe\">\n",
       "  <thead>\n",
       "    <tr style=\"text-align: right;\">\n",
       "      <th></th>\n",
       "      <th>count</th>\n",
       "      <th>mean</th>\n",
       "      <th>std</th>\n",
       "      <th>min</th>\n",
       "      <th>25%</th>\n",
       "      <th>50%</th>\n",
       "      <th>75%</th>\n",
       "      <th>max</th>\n",
       "    </tr>\n",
       "  </thead>\n",
       "  <tbody>\n",
       "    <tr>\n",
       "      <th>Temperature</th>\n",
       "      <td>1877.0</td>\n",
       "      <td>0.013314</td>\n",
       "      <td>0.586965</td>\n",
       "      <td>-0.980089</td>\n",
       "      <td>-0.483076</td>\n",
       "      <td>0.0</td>\n",
       "      <td>0.516924</td>\n",
       "      <td>1.017992</td>\n",
       "    </tr>\n",
       "    <tr>\n",
       "      <th>Humidity</th>\n",
       "      <td>1877.0</td>\n",
       "      <td>0.029810</td>\n",
       "      <td>0.583383</td>\n",
       "      <td>-0.975293</td>\n",
       "      <td>-0.463534</td>\n",
       "      <td>0.0</td>\n",
       "      <td>0.536466</td>\n",
       "      <td>1.081579</td>\n",
       "    </tr>\n",
       "    <tr>\n",
       "      <th>Wind_Speed</th>\n",
       "      <td>1877.0</td>\n",
       "      <td>0.002157</td>\n",
       "      <td>0.562383</td>\n",
       "      <td>-0.948840</td>\n",
       "      <td>-0.500565</td>\n",
       "      <td>0.0</td>\n",
       "      <td>0.499435</td>\n",
       "      <td>0.982363</td>\n",
       "    </tr>\n",
       "    <tr>\n",
       "      <th>Cloud_Cover</th>\n",
       "      <td>1877.0</td>\n",
       "      <td>0.000646</td>\n",
       "      <td>0.573041</td>\n",
       "      <td>-0.986782</td>\n",
       "      <td>-0.495164</td>\n",
       "      <td>0.0</td>\n",
       "      <td>0.504836</td>\n",
       "      <td>0.989191</td>\n",
       "    </tr>\n",
       "    <tr>\n",
       "      <th>Pressure</th>\n",
       "      <td>1877.0</td>\n",
       "      <td>0.009840</td>\n",
       "      <td>0.586561</td>\n",
       "      <td>-1.002763</td>\n",
       "      <td>-0.494292</td>\n",
       "      <td>0.0</td>\n",
       "      <td>0.505708</td>\n",
       "      <td>1.051275</td>\n",
       "    </tr>\n",
       "  </tbody>\n",
       "</table>\n",
       "</div>"
      ],
      "text/plain": [
       "              count      mean       std       min       25%  50%       75%  \\\n",
       "Temperature  1877.0  0.013314  0.586965 -0.980089 -0.483076  0.0  0.516924   \n",
       "Humidity     1877.0  0.029810  0.583383 -0.975293 -0.463534  0.0  0.536466   \n",
       "Wind_Speed   1877.0  0.002157  0.562383 -0.948840 -0.500565  0.0  0.499435   \n",
       "Cloud_Cover  1877.0  0.000646  0.573041 -0.986782 -0.495164  0.0  0.504836   \n",
       "Pressure     1877.0  0.009840  0.586561 -1.002763 -0.494292  0.0  0.505708   \n",
       "\n",
       "                  max  \n",
       "Temperature  1.017992  \n",
       "Humidity     1.081579  \n",
       "Wind_Speed   0.982363  \n",
       "Cloud_Cover  0.989191  \n",
       "Pressure     1.051275  "
      ]
     },
     "metadata": {},
     "output_type": "display_data"
    },
    {
     "data": {
      "text/html": [
       "<div>\n",
       "<style scoped>\n",
       "    .dataframe tbody tr th:only-of-type {\n",
       "        vertical-align: middle;\n",
       "    }\n",
       "\n",
       "    .dataframe tbody tr th {\n",
       "        vertical-align: top;\n",
       "    }\n",
       "\n",
       "    .dataframe thead th {\n",
       "        text-align: right;\n",
       "    }\n",
       "</style>\n",
       "<table border=\"1\" class=\"dataframe\">\n",
       "  <thead>\n",
       "    <tr style=\"text-align: right;\">\n",
       "      <th></th>\n",
       "      <th>count</th>\n",
       "      <th>mean</th>\n",
       "      <th>std</th>\n",
       "      <th>min</th>\n",
       "      <th>25%</th>\n",
       "      <th>50%</th>\n",
       "      <th>75%</th>\n",
       "      <th>max</th>\n",
       "    </tr>\n",
       "  </thead>\n",
       "  <tbody>\n",
       "    <tr>\n",
       "      <th>Temperature</th>\n",
       "      <td>470.0</td>\n",
       "      <td>0.001826</td>\n",
       "      <td>0.577461</td>\n",
       "      <td>-1.051809</td>\n",
       "      <td>-0.472722</td>\n",
       "      <td>-1.418679e-16</td>\n",
       "      <td>0.527278</td>\n",
       "      <td>0.938303</td>\n",
       "    </tr>\n",
       "    <tr>\n",
       "      <th>Humidity</th>\n",
       "      <td>470.0</td>\n",
       "      <td>-0.047785</td>\n",
       "      <td>0.561405</td>\n",
       "      <td>-0.988673</td>\n",
       "      <td>-0.562850</td>\n",
       "      <td>0.000000e+00</td>\n",
       "      <td>0.437150</td>\n",
       "      <td>0.914910</td>\n",
       "    </tr>\n",
       "    <tr>\n",
       "      <th>Wind_Speed</th>\n",
       "      <td>470.0</td>\n",
       "      <td>-0.004965</td>\n",
       "      <td>0.597921</td>\n",
       "      <td>-1.098029</td>\n",
       "      <td>-0.521424</td>\n",
       "      <td>9.421717e-17</td>\n",
       "      <td>0.478576</td>\n",
       "      <td>1.020647</td>\n",
       "    </tr>\n",
       "    <tr>\n",
       "      <th>Cloud_Cover</th>\n",
       "      <td>470.0</td>\n",
       "      <td>0.010658</td>\n",
       "      <td>0.543817</td>\n",
       "      <td>-0.883727</td>\n",
       "      <td>-0.508749</td>\n",
       "      <td>6.505213e-17</td>\n",
       "      <td>0.491251</td>\n",
       "      <td>0.929825</td>\n",
       "    </tr>\n",
       "    <tr>\n",
       "      <th>Pressure</th>\n",
       "      <td>470.0</td>\n",
       "      <td>0.055036</td>\n",
       "      <td>0.557949</td>\n",
       "      <td>-0.839099</td>\n",
       "      <td>-0.440777</td>\n",
       "      <td>0.000000e+00</td>\n",
       "      <td>0.559223</td>\n",
       "      <td>1.017732</td>\n",
       "    </tr>\n",
       "  </tbody>\n",
       "</table>\n",
       "</div>"
      ],
      "text/plain": [
       "             count      mean       std       min       25%           50%  \\\n",
       "Temperature  470.0  0.001826  0.577461 -1.051809 -0.472722 -1.418679e-16   \n",
       "Humidity     470.0 -0.047785  0.561405 -0.988673 -0.562850  0.000000e+00   \n",
       "Wind_Speed   470.0 -0.004965  0.597921 -1.098029 -0.521424  9.421717e-17   \n",
       "Cloud_Cover  470.0  0.010658  0.543817 -0.883727 -0.508749  6.505213e-17   \n",
       "Pressure     470.0  0.055036  0.557949 -0.839099 -0.440777  0.000000e+00   \n",
       "\n",
       "                  75%       max  \n",
       "Temperature  0.527278  0.938303  \n",
       "Humidity     0.437150  0.914910  \n",
       "Wind_Speed   0.478576  1.020647  \n",
       "Cloud_Cover  0.491251  0.929825  \n",
       "Pressure     0.559223  1.017732  "
      ]
     },
     "metadata": {},
     "output_type": "display_data"
    }
   ],
   "source": [
    "scaler = RobustScaler()\n",
    "\n",
    "# the scaler return ndarray\n",
    "\n",
    "df_features_train_avg = scaler.fit_transform(df_features_train_avg)\n",
    "df_features_test_avg = scaler.fit_transform(df_features_test_avg)\n",
    "\n",
    "\n",
    "df_features_train_dropped = scaler.fit_transform(df_features_train_dropped)\n",
    "df_features_test_dropped = scaler.fit_transform(df_features_test_dropped)\n",
    "\n",
    "\n",
    "# convert the ndarray to DataFrame\n",
    "\n",
    "# final features will be worked on\n",
    "\n",
    "df_features_train_avg = pd.DataFrame(df_features_train_avg, columns=df_features_filled_avg.columns)\n",
    "df_features_test_avg = pd.DataFrame(df_features_test_avg, columns=df_features_filled_avg.columns)\n",
    "\n",
    "\n",
    "df_features_train_dropped = pd.DataFrame(df_features_train_dropped, columns=df_features_dropped_nulls.columns)\n",
    "df_features_test_dropped = pd.DataFrame(df_features_test_dropped, columns=df_features_dropped_nulls.columns)\n",
    "\n",
    "\n",
    "print(\"Avg Features:\")\n",
    "display(df_features_train_avg.describe().T)\n",
    "display(df_features_test_avg.describe().T)\n",
    "\n",
    "print(\"Dropped Nulls Features:\")\n",
    "display(df_features_train_dropped.describe().T)\n",
    "display(df_features_test_dropped.describe().T)"
=======
    "cells": [
     {
      "cell_type": "code",
      "execution_count": null,
      "metadata": {},
      "outputs": [],
      "source": [
       "import pandas as pd\n",
       "import seaborn as sns\n",
       "import matplotlib.pyplot as plt\n",
       "from sklearn.preprocessing import RobustScaler\n",
       "from sklearn.model_selection import train_test_split\n",
       "import numpy as np\n",
       "from sklearn.preprocessing import LabelEncoder\n",
       "from sklearn.neighbors import KNeighborsClassifier\n",
       "from sklearn.metrics import accuracy_score, precision_score, recall_score\n",
       "from sklearn.tree import DecisionTreeClassifier\n",
       "from sklearn.tree import plot_tree"
      ]
     },
     {
      "cell_type": "markdown",
      "metadata": {},
      "source": [
       "## Task 1: Preprocessing"
      ]
     },
     {
      "cell_type": "markdown",
      "metadata": {},
      "source": [
       ">#### load 'weather_forecast_data.csv' dataset"
      ]
     },
     {
      "cell_type": "code",
      "execution_count": null,
      "metadata": {},
      "outputs": [],
      "source": [
       "df = pd.read_csv('weather_forecast_data.csv')"
      ]
     },
     {
      "cell_type": "code",
      "execution_count": null,
      "metadata": {},
      "outputs": [],
      "source": [
       "# get copy from the original to preprocess\n",
       "\n",
       "df_pre = df.copy()"
      ]
     },
     {
      "cell_type": "markdown",
      "metadata": {},
      "source": [
       ">#### check missing values"
      ]
     },
     {
      "cell_type": "code",
      "execution_count": null,
      "metadata": {},
      "outputs": [],
      "source": [
       "# to know the number of the rows\n",
       "print(f\"total records:\",len(df), \"\\n\")\n",
       "\n",
       "\n",
       "# to get the number of missing values in each column\n",
       "print(\"missing records in each column:\",\"\\n\")\n",
       "print(df_pre.isnull().sum())\n",
       "\n",
       "print(\"-\"*80)\n",
       "\n",
       "print(\"Records with null values: \",\"\\n\")\n",
       "print(df_pre[df_pre.isnull().any(axis=1)])\n",
       "\n",
       "# according to the output there are missing values\n",
       "\n"
      ]
     },
     {
      "cell_type": "markdown",
      "metadata": {},
      "source": [
       ">#### Handle missing values with dropping them"
      ]
     },
     {
      "cell_type": "code",
      "execution_count": null,
      "metadata": {},
      "outputs": [],
      "source": [
       "\n",
       "df_dropped_nulls= df_pre.dropna()\n",
       "print(f\"total records without nulls:\",len(df_dropped_nulls), \"\\n\")\n",
       "\n",
       "df_dropped_nulls.head()"
      ]
     },
     {
      "cell_type": "markdown",
      "metadata": {},
      "source": [
       ">#### Handle missing values with replacing them with Avg"
      ]
     },
     {
      "cell_type": "code",
      "execution_count": null,
      "metadata": {},
      "outputs": [],
      "source": [
       "\n",
       "# get the numerical features only because we can't get mean for categorical feature\n",
       "\n",
       "df_numerical_features_only=df_pre.select_dtypes(include=\"number\")\n",
       "\n",
       "\n",
       "# replace the null values with the average of the numerical features\n",
       "\n",
       "df_numerical_filled_avg = df_numerical_features_only.fillna(df_numerical_features_only.mean())\n",
       "\n",
       "\n",
       "# concatenate the numerical features with the target column \"Rain\" and create a new dataframe \"df_filledAvg\"\n",
       "\n",
       "df_filled_avg=pd.concat([df_numerical_filled_avg,df_pre[\"Rain\"]], axis=1)\n",
       "\n",
       "\n",
       "print(\"DataFrame after replacing null values with the average:\")\n",
       "print(df_filled_avg)"
      ]
     },
     {
      "cell_type": "markdown",
      "metadata": {},
      "source": [
       ">#### determine targets & features"
      ]
     },
     {
      "cell_type": "code",
      "execution_count": null,
      "metadata": {},
      "outputs": [],
      "source": [
       "targets_columns=[\"Rain\"]\n",
       "\n",
       "df_targets_filled_avg = df_filled_avg[targets_columns]\n",
       "df_features_filled_avg = df_filled_avg.drop(columns=targets_columns)\n",
       "\n",
       "df_targets_dropped_nulls = df_dropped_nulls[targets_columns]\n",
       "df_features_dropped_nulls = df_dropped_nulls.drop(columns=targets_columns)\n",
       "\n",
       "print(\"Avg data:\")\n",
       "display(df_features_filled_avg.head())\n",
       "display(df_targets_filled_avg.head())\n",
       "\n",
       "print(\"Dropped nulls data:\")\n",
       "display(df_features_dropped_nulls.head())\n",
       "display(df_targets_dropped_nulls.head())\n"
      ]
     },
     {
      "cell_type": "markdown",
      "metadata": {},
      "source": [
       ">#### splitting data into train , test"
      ]
     },
     {
      "cell_type": "code",
      "execution_count": null,
      "metadata": {},
      "outputs": [],
      "source": [
       "\n",
       "# make the 80% from the data training set and 20% from the data testing set\n",
       "# random state to ensure that the split return the same data each run\n",
       "\n",
       "df_features_train_avg, df_features_test_avg, df_targets_train_avg, df_targets_test_avg = train_test_split(df_features_filled_avg, df_targets_filled_avg, test_size=0.2, random_state=42) \n",
       "df_features_train_dropped, df_features_test_dropped, df_targets_train_dropped, df_targets_test_dropped = train_test_split(df_features_dropped_nulls, df_targets_dropped_nulls, test_size=0.2, random_state=42) \n",
       "\n",
       "print(len(df_features_train_avg))\n",
       "print(len(df_features_test_avg))\n",
       "print(len(df_targets_train_avg))\n",
       "print(len(df_targets_test_avg))\n",
       "\n",
       "print(len(df_features_train_dropped))\n",
       "print(len(df_features_test_dropped))\n",
       "print(len(df_targets_train_dropped))\n",
       "print(len(df_targets_test_dropped))\n"
      ]
     },
     {
      "cell_type": "code",
      "execution_count": null,
      "metadata": {},
      "outputs": [],
      "source": [
       "# final targets will be worked on \n",
       "\n",
       "label_encoder = LabelEncoder()\n",
       "df_targets_train_avg = label_encoder.fit_transform(df_targets_train_avg)\n",
       "df_targets_test_avg = label_encoder.transform(df_targets_test_avg)\n",
       "\n",
       "df_targets_train_dropped = label_encoder.fit_transform(df_targets_train_dropped)\n",
       "df_targets_test_dropped = label_encoder.transform(df_targets_test_dropped)"
      ]
     },
     {
      "cell_type": "markdown",
      "metadata": {},
      "source": [
       ">#### check scaling of data"
      ]
     },
     {
      "cell_type": "code",
      "execution_count": null,
      "metadata": {},
      "outputs": [],
      "source": [
       "\n",
       "print(\"filled avg data:\")\n",
       "display(df_filled_avg.describe().T)\n",
       "\n",
       "print(\"dropped nulls data:\")\n",
       "display(df_dropped_nulls.describe().T)\n",
       "\n",
       "# according to the output from min, max the numeric features dosn't have the same scale"
      ]
     },
     {
      "cell_type": "markdown",
      "metadata": {},
      "source": [
       ">#### features are scaled"
      ]
     },
     {
      "cell_type": "code",
      "execution_count": null,
      "metadata": {},
      "outputs": [],
      "source": [
       "scaler = RobustScaler()\n",
       "\n",
       "# the scaler return ndarray\n",
       "\n",
       "df_features_train_avg = scaler.fit_transform(df_features_train_avg)\n",
       "df_features_test_avg = scaler.fit_transform(df_features_test_avg)\n",
       "\n",
       "\n",
       "df_features_train_dropped = scaler.fit_transform(df_features_train_dropped)\n",
       "df_features_test_dropped = scaler.fit_transform(df_features_test_dropped)\n",
       "\n",
       "\n",
       "# convert the ndarray to DataFrame\n",
       "\n",
       "# final features will be worked on\n",
       "\n",
       "df_features_train_avg = pd.DataFrame(df_features_train_avg, columns=df_features_filled_avg.columns)\n",
       "df_features_test_avg = pd.DataFrame(df_features_test_avg, columns=df_features_filled_avg.columns)\n",
       "\n",
       "\n",
       "df_features_train_dropped = pd.DataFrame(df_features_train_dropped, columns=df_features_dropped_nulls.columns)\n",
       "df_features_test_dropped = pd.DataFrame(df_features_test_dropped, columns=df_features_dropped_nulls.columns)\n",
       "\n",
       "\n",
       "print(\"Avg Features:\")\n",
       "display(df_features_train_avg.describe().T)\n",
       "display(df_features_test_avg.describe().T)\n",
       "\n",
       "print(\"Dropped Nulls Features:\")\n",
       "display(df_features_train_dropped.describe().T)\n",
       "display(df_features_test_dropped.describe().T)"
      ]
     },
     {
      "cell_type": "markdown",
      "metadata": {},
      "source": [
       "## Task 1: Preprocessing : Implement Decision Tree, k-Nearest Neighbors (kNN) and naïve Bayes"
      ]
     },
     {
      "cell_type": "markdown",
      "metadata": {},
      "source": [
       ">#### Evaluate accuracy, precision, and recall "
      ]
     },
     {
      "cell_type": "code",
      "execution_count": null,
      "metadata": {},
      "outputs": [],
      "source": [
       "\n",
       "def evaluateModels(target, predictions):\n",
       "    # get the percentage \n",
       "    accuracy = accuracy_score(target, predictions) * 100\n",
       "    precision = precision_score(target, predictions) * 100\n",
       "    recall = recall_score(target, predictions) * 100\n",
       "\n",
       "\n",
       "    print(f\"Accuracy: {accuracy:.2f}%\", f\"Precision: {precision:.2f}%\", f\"Recall: {recall:.2f}%\")\n",
       "    return accuracy, precision, recall\n"
      ]
     },
     {
      "cell_type": "markdown",
      "metadata": {},
      "source": [
       ">#### KNN with scikit-learn"
      ]
     },
     {
      "cell_type": "code",
      "execution_count": null,
      "metadata": {},
      "outputs": [],
      "source": [
       "\n",
       "# KNN with scikit-learn using 5 Neighbors and brute force\n",
       "knnModel = KNeighborsClassifier(n_neighbors=5, algorithm='brute')\n",
       "\n",
       "# using technique of replacing the nulls values with the mean\n",
       "knnModel.fit(df_features_train_avg, df_targets_train_avg)\n",
       "\n",
       "knnPredictions = knnModel.predict(df_features_test_avg)\n",
       "knn_accuracy_avg, knn_precision_avg, knn_recall_avg = evaluateModels(df_targets_test_avg, knnPredictions)\n",
       "\n",
       "\n",
       "# using technique of dropping the nulls\n",
       "\n",
       "knnModel.fit(df_features_train_dropped, df_targets_train_dropped)\n",
       "knnPredictions = knnModel.predict(df_features_test_dropped)\n",
       "knn_accuracy_dropped, knn_precision_dropped, knn_recall_dropped = evaluateModels(df_targets_test_dropped, knnPredictions)\n"
      ]
     },
     {
      "cell_type": "markdown",
      "metadata": {},
      "source": [
       ">#### KNN from scratch"
      ]
     },
     {
      "cell_type": "code",
      "execution_count": null,
      "metadata": {},
      "outputs": [],
      "source": [
       "\n",
       "# get the distances between two points\n",
       "def eculidean_distance(p, q):\n",
       "    distance = 0\n",
       "    for i in range(len(q)):\n",
       "       distance += ( (p[i] - q[i] ) ** 2 )\n",
       "\n",
       "    return np.sqrt(distance)\n"
      ]
     },
     {
      "cell_type": "markdown",
      "metadata": {},
      "source": [
       "> #### find the neighbors of a point"
      ]
     },
     {
      "cell_type": "code",
      "execution_count": null,
      "metadata": {},
      "outputs": [],
      "source": [
       "\n",
       "# find the neighbors of a point (x_test)\n",
       "# loop over the x_train to find the neighbors\n",
       "def find_neighbours(x_train, x_test, y_train):\n",
       "    n = len(x_train)\n",
       "    distances = np.zeros(n)\n",
       "    \n",
       "    for i in range(n):\n",
       "        distances[i] = eculidean_distance(x_train[i], x_test)\n",
       "\n",
       "\n",
       "    # convert distances and y_train to data frame to can concatenate\n",
       "    distances = pd.DataFrame(distances, columns=['Distance'])\n",
       "    y_train = pd.DataFrame(y_train, columns=['Target'])\n",
       "    neighbours = pd.concat([distances,y_train], axis=1)\n",
       "\n",
       "    # sort the neighbors according to the distances\n",
       "    neighbours = neighbours.sort_values(by='Distance', ascending=True).reset_index(drop=True)\n",
       "\n",
       "    return neighbours\n"
      ]
     },
     {
      "cell_type": "markdown",
      "metadata": {},
      "source": [
       "##### get y predict for a one x test"
      ]
     },
     {
      "cell_type": "code",
      "execution_count": null,
      "metadata": {},
      "outputs": [],
      "source": [
       "\n",
       "# take the neighbors and k \n",
       "# Return the value with the highest count\n",
       "def get_y_predict(neighbours, k):\n",
       "    # get first k rows\n",
       "    top_k = neighbours.head(k)\n",
       "\n",
       "    # count the number of 0s and 1s\n",
       "    label_counts = top_k['Target'].value_counts()\n",
       "\n",
       "    # return the value with the highest count\n",
       "    return label_counts.idxmax()"
      ]
     },
     {
      "cell_type": "markdown",
      "metadata": {},
      "source": [
       "##### get y predict for the test data"
      ]
     },
     {
      "cell_type": "code",
      "execution_count": null,
      "metadata": {},
      "outputs": [],
      "source": [
       "\n",
       "# return y predictions for the whole test set\n",
       "def predict(x_train, x_test, y_train, k):\n",
       "    y_predictions = np.zeros(len(x_test))\n",
       "    x_test = x_test.to_numpy()\n",
       "\n",
       "    # loop over the x_test\n",
       "    for i in range(len(x_test)):\n",
       "\n",
       "        # get the neighnours\n",
       "        neighbours = find_neighbours(x_train.to_numpy(), x_test[i], y_train)\n",
       "\n",
       "        # get the y prediction and update the list of predictions\n",
       "        y_predictions[i] = get_y_predict(neighbours, k)\n",
       "\n",
       "    return y_predictions\n"
      ]
     },
     {
      "cell_type": "markdown",
      "metadata": {},
      "source": [
       "> #### different k values for KNN algorithm"
      ]
     },
     {
      "cell_type": "code",
      "execution_count": null,
      "metadata": {},
      "outputs": [],
      "source": [
       "# KNN from Scratch with k = 3\n",
       "knn_scratch_predictions = predict(df_features_train_avg, df_features_test_avg, df_targets_train_avg, 3)\n",
       "print(\"KNN FROM SCRATCH WITH K = 3\")\n",
       "knn3_scratch_accuracy, knn3_scratch_precision, knn3_scratch_recall = evaluateModels(df_targets_test_avg, knn_scratch_predictions)\n",
       "\n",
       "# KNN from Scratch with k = 5\n",
       "knn_scratch_predictions = predict(df_features_train_avg, df_features_test_avg, df_targets_train_avg, 5)\n",
       "print(\"KNN FROM SCRATCH WITH K = 5\")\n",
       "knn5_scratch_accuracy, knn5_scratch_precision, knn5_scratch_recall = evaluateModels(df_targets_test_avg, knn_scratch_predictions)\n",
       "\n",
       "# KNN from Scratch with k = 7\n",
       "knn_scratch_predictions = predict(df_features_train_avg, df_features_test_avg, df_targets_train_avg, 7)\n",
       "print(\"KNN FROM SCRATCH WITH K = 7\")\n",
       "knn7_scratch_accuracy, knn7_scratch_precision, knn7_scratch_recall = evaluateModels(df_targets_test_avg, knn_scratch_predictions)\n",
       "\n",
       "# KNN from Scratch with k = 9\n",
       "knn_scratch_predictions = predict(df_features_train_avg, df_features_test_avg, df_targets_train_avg, 9)\n",
       "print(\"KNN FROM SCRATCH WITH K = 9\")\n",
       "knn9_scratch_accuracy, knn9_scratch_precision, knn9_scratch_recall = evaluateModels(df_targets_test_avg, knn_scratch_predictions)\n",
       "\n",
       "# KNN from Scratch with k = 11\n",
       "knn_scratch_predictions = predict(df_features_train_avg, df_features_test_avg, df_targets_train_avg, 11)\n",
       "print(\"KNN FROM SCRATCH WITH K = 11\")\n",
       "knn11_scratch_accuracy, knn11_scratch_precision, knn11_scratch_recall = evaluateModels(df_targets_test_avg, knn_scratch_predictions)\n"
      ]
     },
     {
        "cell_type": "markdown",
        "metadata": {},
        "source": [
         ">#### Implement Decision Tree"
        ]
     },
     {
        "cell_type": "code",
        "execution_count": 25,
        "metadata": {},
        "outputs": [],
        "source": [
         "dt_model_avg = DecisionTreeClassifier(random_state=42)\n",
         "\n",
         "dt_model_avg.fit(df_features_train_avg, df_targets_train_avg)  #usign averge filled\n",
         "\n",
         "dt_preds_avg = dt_model_avg.predict(df_features_test_avg)\n",
         "\n",
         "dt_accuracy_avg = accuracy_score(df_targets_test_avg, dt_preds_avg)\n",
         "dt_precision_avg = precision_score(df_targets_test_avg, dt_preds_avg)\n",
         "dt_recall_avg = recall_score(df_targets_test_avg, dt_preds_avg)\n",
         "\n",
         "print(f\"Decision Tree [Accuracy]: {dt_accuracy_avg* 100:.2f}%\")\n",
         "print(f\"Decision Tree [Precision]: {dt_precision_avg* 100:.2f}%\")\n",
         "print(f\"Decision Tree [Recall]: {dt_recall_avg* 100:.2f}%\")\n"
        ]
       },
       {
        "cell_type": "markdown",
        "metadata": {},
        "source": [
         ">#### The effect of different data handling (Decision Tree)"
        ]
       },
       {
        "cell_type": "code",
        "execution_count": 28,
        "metadata": {},
        "outputs": [],
        "source": [
         "#Dropped\n",
         "\n",
         "dt_model_dropped = DecisionTreeClassifier(random_state=42)\n",
         "\n",
         "dt_model_dropped.fit(df_features_train_dropped, df_targets_train_dropped)\n",
         "\n",
         "dt_preds_dropped = dt_model_dropped.predict(df_features_test_dropped)\n",
         "\n",
         "dt_accuracy_dropped = accuracy_score(df_targets_test_dropped, dt_preds_dropped)\n",
         "dt_precision_dropped = precision_score(df_targets_test_dropped, dt_preds_dropped)\n",
         "dt_recall_dropped = recall_score(df_targets_test_dropped, dt_preds_dropped)\n",
         "\n",
         "print(f\"Decision Tree (Dropped) [Accuracy]: {dt_accuracy_dropped* 100:.2f}%\")\n",
         "print(f\"Decision Tree (Dropped) [Precision]: {dt_precision_dropped* 100:.2f}%\")\n",
         "print(f\"Decision Tree (Dropped) [Recall]: {dt_recall_dropped* 100:.2f}%\")\n",
         "\n",
         "#Average filled\n",
         "\n",
         "print(f\"Decision Tree (Avg Filled) [Accuracy]: {dt_accuracy_avg* 100:.2f}%\")\n",
         "print(f\"Decision Tree (Avg Filled) [Precision]: {dt_precision_avg* 100:.2f}%\")\n",
         "print(f\"Decision Tree (Avg Filled) [Recall]: {dt_recall_avg* 100:.2f}%\")"
        ]
       },
       {
        "cell_type": "markdown",
        "metadata": {},
        "source": [
         "> #### Decision Tree Explanation Report"
        ]
       },
       {
        "cell_type": "markdown",
        "metadata": {},
        "source": [
         ">##### plot of the decision tree"
        ]
       },
       {
        "cell_type": "code",
        "execution_count": null,
        "metadata": {},
        "outputs":[],
        "source": [
    "#for Avgerage-Filled\n",
    "plt.figure(figsize=(20, 10))\n",
    "plot_tree(\n",
    "    dt_model_avg, \n",
    "    feature_names=df_features_filled_avg.columns, \n",
    "    class_names=[\"No Rain\", \"Rain\"], \n",
    "    filled=True, \n",
    "    rounded=True\n",
    ")\n",
    "plt.title(\"Decision Tree\")\n",
    "plt.show()\n",
    "    \n"
>>>>>>> e32b4b0eff6d0f8c6e07a8666e35a7b07e100a3c
   ]
<<<<<<< Updated upstream
=======
  },
  {
   "cell_type": "markdown",
   "metadata": {},
   "source": [
    ">#### Naive Bayes Algorithm"
   ]
  },
  {
   "cell_type": "code",
   "execution_count": 12,
   "metadata": {},
   "outputs": [],
   "source": [
    "from sklearn.naive_bayes import GaussianNB\n",
    "from sklearn.metrics import accuracy_score, precision_score, recall_score, classification_report\n"
   ]
  },
  {
   "cell_type": "code",
   "execution_count": 13,
   "metadata": {},
   "outputs": [],
   "source": [
    "# initialize the classifer\n",
    "model = GaussianNB()"
   ]
  },
  {
   "cell_type": "markdown",
   "metadata": {},
   "source": [
    ">#### Model the features with avg replacement"
   ]
  },
  {
   "cell_type": "code",
   "execution_count": 14,
   "metadata": {},
   "outputs": [
    {
     "name": "stdout",
     "output_type": "stream",
     "text": [
      "Avg data:\n",
      "Accuracy: 0.96\n",
      "Precision 0.9736842105263158\n",
      "recall 0.6607142857142857\n"
     ]
    }
   ],
   "source": [
    "# fit the model\n",
    "model.fit(df_features_train_avg, df_targets_train_avg)\n",
    "\n",
    "# predict the target values\n",
    "y_pred_avg = model.predict(df_features_test_avg)\n",
    "\n",
    "# evaluate the target values\n",
    "print(\"Avg data:\")\n",
    "print(\"Accuracy:\", accuracy_score(df_targets_test_avg, y_pred_avg))\n",
    "print(\"Precision\", precision_score(df_targets_test_avg, y_pred_avg))\n",
    "print(\"recall\", recall_score(df_targets_test_avg, y_pred_avg))"
   ]
  },
  {
   "cell_type": "markdown",
   "metadata": {},
   "source": [
    ">#### Model the features with dropped nulls"
   ]
  },
  {
   "cell_type": "code",
   "execution_count": 15,
   "metadata": {},
   "outputs": [
    {
     "name": "stdout",
     "output_type": "stream",
     "text": [
      "Dropped Nulls data:\n",
      "Accuracy: 0.948936170212766\n",
      "Precision 0.9782608695652174\n",
      "Recall 0.6617647058823529\n"
     ]
    }
   ],
   "source": [
    "# fit the model\n",
    "model.fit(df_features_train_dropped , df_targets_train_dropped)\n",
    "\n",
    "# predict the target values\n",
    "y_pred_dropped = model.predict(df_features_test_dropped)\n",
    "\n",
    "# evaluate the target values\n",
    "print(\"Dropped Nulls data:\")\n",
    "print(\"Accuracy:\", accuracy_score(df_targets_test_dropped, y_pred_dropped))\n",
    "print(\"Precision\", precision_score(df_targets_test_dropped, y_pred_dropped))\n",
    "print(\"Recall\", recall_score(df_targets_test_dropped, y_pred_dropped))\n"
   ]
  },
  {
   "cell_type": "code",
   "execution_count": 16,
   "metadata": {},
   "outputs": [
    {
     "name": "stderr",
     "output_type": "stream",
     "text": [
      "c:\\Users\\T\\anaconda3\\Lib\\site-packages\\seaborn\\_oldcore.py:1119: FutureWarning: use_inf_as_na option is deprecated and will be removed in a future version. Convert inf values to NaN before operating instead.\n",
      "  with pd.option_context('mode.use_inf_as_na', True):\n",
      "c:\\Users\\T\\anaconda3\\Lib\\site-packages\\seaborn\\_oldcore.py:1119: FutureWarning: use_inf_as_na option is deprecated and will be removed in a future version. Convert inf values to NaN before operating instead.\n",
      "  with pd.option_context('mode.use_inf_as_na', True):\n"
     ]
    },
    {
     "data": {
      "text/plain": [
       "<seaborn.axisgrid.FacetGrid at 0x1df94436050>"
      ]
     },
     "execution_count": 16,
     "metadata": {},
     "output_type": "execute_result"
    },
    {
     "data": {
      "image/png": "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",
      "text/plain": [
       "<Figure size 638.25x500 with 1 Axes>"
      ]
     },
     "metadata": {},
     "output_type": "display_data"
    },
    {
     "data": {
      "image/png": "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",
      "text/plain": [
       "<Figure size 638.25x500 with 1 Axes>"
      ]
     },
     "metadata": {},
     "output_type": "display_data"
    }
   ],
   "source": [
    "# plot the distribution of the data\n",
    "\n",
    "import seaborn as sns\n",
    "sns.displot(df_features_test_avg)\n",
    "sns.displot(df_features_test_dropped)\n",
    "\n",
    "# The features are not normally distributed.\n"
   ]
  },
  {
   "cell_type": "code",
   "execution_count": 17,
   "metadata": {},
   "outputs": [],
   "source": [
    "# print(classification_report(df_targets_test_avg, y_pred_avg))\n",
    "# print(classification_report(df_targets_test_dropped, y_pred_dropped))"
   ]
>>>>>>> Stashed changes
  }
    ],
    "metadata": {
     "kernelspec": {
      "display_name": "Python 3",
      "language": "python",
      "name": "python3"
     },
     "language_info": {
      "codemirror_mode": {
       "name": "ipython",
       "version": 3
      },
      "file_extension": ".py",
      "mimetype": "text/x-python",
      "name": "python",
      "nbconvert_exporter": "python",
      "pygments_lexer": "ipython3",
      "version": "3.11.3"
     }
    },
    "nbformat": 4,
    "nbformat_minor": 2
   }