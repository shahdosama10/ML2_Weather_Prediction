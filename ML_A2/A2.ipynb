{
 "cells": [
  {
   "cell_type": "code",
   "execution_count": 93,
   "metadata": {},
   "outputs": [],
   "source": [
    "import pandas as pd\n",
    "import seaborn as sns\n",
    "import matplotlib.pyplot as plt\n",
    "from sklearn.preprocessing import MinMaxScaler\n",
    "from sklearn.model_selection import train_test_split\n",
    "import numpy as np\n",
    "from sklearn.preprocessing import LabelEncoder\n",
    "from sklearn.neighbors import KNeighborsClassifier\n",
    "from sklearn.metrics import accuracy_score, precision_score, recall_score\n",
    "from sklearn.tree import DecisionTreeClassifier\n",
    "from sklearn.tree import plot_tree\n",
    "from sklearn.naive_bayes import GaussianNB\n"
   ]
  },
  {
   "cell_type": "markdown",
   "metadata": {},
   "source": [
    "## Preprocessing"
   ]
  },
  {
   "cell_type": "markdown",
   "metadata": {},
   "source": [
    ">#### load 'weather_forecast_data.csv' dataset"
   ]
  },
  {
   "cell_type": "code",
   "execution_count": 94,
   "metadata": {},
   "outputs": [],
   "source": [
    "df = pd.read_csv('weather_forecast_data.csv')"
   ]
  },
  {
   "cell_type": "code",
   "execution_count": 95,
   "metadata": {},
   "outputs": [],
   "source": [
    "# get copy from the original to preprocess\n",
    "\n",
    "df_pre = df.copy()"
   ]
  },
  {
   "cell_type": "markdown",
   "metadata": {},
   "source": [
    ">#### check missing values"
   ]
  },
  {
   "cell_type": "code",
   "execution_count": 96,
   "metadata": {},
   "outputs": [
    {
     "name": "stdout",
     "output_type": "stream",
     "text": [
      "total records: 2500 \n",
      "\n",
      "missing records in each column: \n",
      "\n",
      "Temperature    25\n",
      "Humidity       40\n",
      "Wind_Speed     32\n",
      "Cloud_Cover    33\n",
      "Pressure       27\n",
      "Rain            0\n",
      "dtype: int64\n",
      "--------------------------------------------------------------------------------\n",
      "Records with null values:  \n",
      "\n",
      "      Temperature   Humidity  Wind_Speed  Cloud_Cover     Pressure     Rain\n",
      "8             NaN  89.077804    4.842197    83.941093  1029.932706  no rain\n",
      "25      26.420959  72.283460         NaN     0.812305  1018.818494  no rain\n",
      "59      11.069078  89.683583    5.804538          NaN   992.303157  no rain\n",
      "68            NaN  58.981077    6.261278    37.580222  1019.684713  no rain\n",
      "74      33.078976  81.000650    5.744880    86.933978          NaN  no rain\n",
      "...           ...        ...         ...          ...          ...      ...\n",
      "2429          NaN  93.920582   13.302477    90.346087   998.183246     rain\n",
      "2436    16.838551  86.248171   13.326615          NaN  1004.497445     rain\n",
      "2445    14.279301        NaN   19.789469    95.934640  1031.653350     rain\n",
      "2446    13.695217  95.727543         NaN    65.020145   983.800057     rain\n",
      "2483    17.449257  70.094641         NaN    64.609907  1041.623220     rain\n",
      "\n",
      "[153 rows x 6 columns]\n"
     ]
    }
   ],
   "source": [
    "# to know the number of the rows\n",
    "print(f\"total records:\",len(df), \"\\n\")\n",
    "\n",
    "\n",
    "# to get the number of missing values in each column\n",
    "print(\"missing records in each column:\",\"\\n\")\n",
    "print(df_pre.isnull().sum())\n",
    "\n",
    "print(\"-\"*80)\n",
    "\n",
    "print(\"Records with null values: \",\"\\n\")\n",
    "print(df_pre[df_pre.isnull().any(axis=1)])\n",
    "\n",
    "# according to the output there are missing values\n",
    "\n"
   ]
  },
  {
   "cell_type": "markdown",
   "metadata": {},
   "source": [
    ">#### Handle missing values with dropping them"
   ]
  },
  {
   "cell_type": "code",
   "execution_count": 97,
   "metadata": {},
   "outputs": [
    {
     "name": "stdout",
     "output_type": "stream",
     "text": [
      "total records without nulls: 2347 \n",
      "\n"
     ]
    },
    {
     "data": {
      "text/html": [
       "<div>\n",
       "<style scoped>\n",
       "    .dataframe tbody tr th:only-of-type {\n",
       "        vertical-align: middle;\n",
       "    }\n",
       "\n",
       "    .dataframe tbody tr th {\n",
       "        vertical-align: top;\n",
       "    }\n",
       "\n",
       "    .dataframe thead th {\n",
       "        text-align: right;\n",
       "    }\n",
       "</style>\n",
       "<table border=\"1\" class=\"dataframe\">\n",
       "  <thead>\n",
       "    <tr style=\"text-align: right;\">\n",
       "      <th></th>\n",
       "      <th>Temperature</th>\n",
       "      <th>Humidity</th>\n",
       "      <th>Wind_Speed</th>\n",
       "      <th>Cloud_Cover</th>\n",
       "      <th>Pressure</th>\n",
       "      <th>Rain</th>\n",
       "    </tr>\n",
       "  </thead>\n",
       "  <tbody>\n",
       "    <tr>\n",
       "      <th>0</th>\n",
       "      <td>19.096119</td>\n",
       "      <td>71.651723</td>\n",
       "      <td>14.782324</td>\n",
       "      <td>48.699257</td>\n",
       "      <td>987.954760</td>\n",
       "      <td>no rain</td>\n",
       "    </tr>\n",
       "    <tr>\n",
       "      <th>1</th>\n",
       "      <td>27.112464</td>\n",
       "      <td>84.183705</td>\n",
       "      <td>13.289986</td>\n",
       "      <td>10.375646</td>\n",
       "      <td>1035.430870</td>\n",
       "      <td>no rain</td>\n",
       "    </tr>\n",
       "    <tr>\n",
       "      <th>2</th>\n",
       "      <td>20.433329</td>\n",
       "      <td>42.290424</td>\n",
       "      <td>7.216295</td>\n",
       "      <td>6.673307</td>\n",
       "      <td>1033.628086</td>\n",
       "      <td>no rain</td>\n",
       "    </tr>\n",
       "    <tr>\n",
       "      <th>3</th>\n",
       "      <td>19.576659</td>\n",
       "      <td>40.679280</td>\n",
       "      <td>4.568833</td>\n",
       "      <td>55.026758</td>\n",
       "      <td>1038.832300</td>\n",
       "      <td>no rain</td>\n",
       "    </tr>\n",
       "    <tr>\n",
       "      <th>4</th>\n",
       "      <td>19.828060</td>\n",
       "      <td>93.353211</td>\n",
       "      <td>0.104489</td>\n",
       "      <td>30.687566</td>\n",
       "      <td>1009.423717</td>\n",
       "      <td>no rain</td>\n",
       "    </tr>\n",
       "  </tbody>\n",
       "</table>\n",
       "</div>"
      ],
      "text/plain": [
       "   Temperature   Humidity  Wind_Speed  Cloud_Cover     Pressure     Rain\n",
       "0    19.096119  71.651723   14.782324    48.699257   987.954760  no rain\n",
       "1    27.112464  84.183705   13.289986    10.375646  1035.430870  no rain\n",
       "2    20.433329  42.290424    7.216295     6.673307  1033.628086  no rain\n",
       "3    19.576659  40.679280    4.568833    55.026758  1038.832300  no rain\n",
       "4    19.828060  93.353211    0.104489    30.687566  1009.423717  no rain"
      ]
     },
     "execution_count": 97,
     "metadata": {},
     "output_type": "execute_result"
    }
   ],
   "source": [
    "\n",
    "df_dropped_nulls= df_pre.dropna()\n",
    "print(f\"total records without nulls:\",len(df_dropped_nulls), \"\\n\")\n",
    "\n",
    "df_dropped_nulls.head()"
   ]
  },
  {
   "cell_type": "markdown",
   "metadata": {},
   "source": [
    ">#### Handle missing values with replacing them with Avg"
   ]
  },
  {
   "cell_type": "code",
   "execution_count": 98,
   "metadata": {},
   "outputs": [
    {
     "name": "stdout",
     "output_type": "stream",
     "text": [
      "DataFrame after replacing null values with the average:\n",
      "      Temperature   Humidity  Wind_Speed  Cloud_Cover     Pressure     Rain\n",
      "0       19.096119  71.651723   14.782324    48.699257   987.954760  no rain\n",
      "1       27.112464  84.183705   13.289986    10.375646  1035.430870  no rain\n",
      "2       20.433329  42.290424    7.216295     6.673307  1033.628086  no rain\n",
      "3       19.576659  40.679280    4.568833    55.026758  1038.832300  no rain\n",
      "4       19.828060  93.353211    0.104489    30.687566  1009.423717  no rain\n",
      "...           ...        ...         ...          ...          ...      ...\n",
      "2495    14.684023  82.054139    8.751728    58.939058  1003.418337     rain\n",
      "2496    20.754521  92.099534   17.305508    70.889921  1049.801435     rain\n",
      "2497    22.087516  71.530065    0.857918    84.162554  1039.664865     rain\n",
      "2498    18.542453  97.451961    5.429309    54.643893  1014.769130     rain\n",
      "2499    23.720338  89.592641    7.335604    50.501694  1032.378759     rain\n",
      "\n",
      "[2500 rows x 6 columns]\n"
     ]
    }
   ],
   "source": [
    "# get the numerical features only because we can't get mean for categorical feature\n",
    "df_numerical_features_only=df_pre.select_dtypes(include=\"number\")\n",
    "\n",
    "# replace the null values with the average of the numerical features\n",
    "df_numerical_filled_avg = df_numerical_features_only.fillna(df_numerical_features_only.mean())\n",
    "\n",
    "# concatenate the numerical features with the target column \"Rain\" and create a new dataframe \"df_filledAvg\"\n",
    "df_filled_avg=pd.concat([df_numerical_filled_avg,df_pre[\"Rain\"]], axis=1)\n",
    "print(\"DataFrame after replacing null values with the average:\")\n",
    "print(df_filled_avg)"
   ]
  },
  {
   "cell_type": "markdown",
   "metadata": {},
   "source": [
    ">#### determine targets & features"
   ]
  },
  {
   "cell_type": "code",
   "execution_count": 99,
   "metadata": {},
   "outputs": [
    {
     "name": "stdout",
     "output_type": "stream",
     "text": [
      "Avg data:\n"
     ]
    },
    {
     "data": {
      "text/html": [
       "<div>\n",
       "<style scoped>\n",
       "    .dataframe tbody tr th:only-of-type {\n",
       "        vertical-align: middle;\n",
       "    }\n",
       "\n",
       "    .dataframe tbody tr th {\n",
       "        vertical-align: top;\n",
       "    }\n",
       "\n",
       "    .dataframe thead th {\n",
       "        text-align: right;\n",
       "    }\n",
       "</style>\n",
       "<table border=\"1\" class=\"dataframe\">\n",
       "  <thead>\n",
       "    <tr style=\"text-align: right;\">\n",
       "      <th></th>\n",
       "      <th>Temperature</th>\n",
       "      <th>Humidity</th>\n",
       "      <th>Wind_Speed</th>\n",
       "      <th>Cloud_Cover</th>\n",
       "      <th>Pressure</th>\n",
       "    </tr>\n",
       "  </thead>\n",
       "  <tbody>\n",
       "    <tr>\n",
       "      <th>0</th>\n",
       "      <td>19.096119</td>\n",
       "      <td>71.651723</td>\n",
       "      <td>14.782324</td>\n",
       "      <td>48.699257</td>\n",
       "      <td>987.954760</td>\n",
       "    </tr>\n",
       "    <tr>\n",
       "      <th>1</th>\n",
       "      <td>27.112464</td>\n",
       "      <td>84.183705</td>\n",
       "      <td>13.289986</td>\n",
       "      <td>10.375646</td>\n",
       "      <td>1035.430870</td>\n",
       "    </tr>\n",
       "    <tr>\n",
       "      <th>2</th>\n",
       "      <td>20.433329</td>\n",
       "      <td>42.290424</td>\n",
       "      <td>7.216295</td>\n",
       "      <td>6.673307</td>\n",
       "      <td>1033.628086</td>\n",
       "    </tr>\n",
       "    <tr>\n",
       "      <th>3</th>\n",
       "      <td>19.576659</td>\n",
       "      <td>40.679280</td>\n",
       "      <td>4.568833</td>\n",
       "      <td>55.026758</td>\n",
       "      <td>1038.832300</td>\n",
       "    </tr>\n",
       "    <tr>\n",
       "      <th>4</th>\n",
       "      <td>19.828060</td>\n",
       "      <td>93.353211</td>\n",
       "      <td>0.104489</td>\n",
       "      <td>30.687566</td>\n",
       "      <td>1009.423717</td>\n",
       "    </tr>\n",
       "  </tbody>\n",
       "</table>\n",
       "</div>"
      ],
      "text/plain": [
       "   Temperature   Humidity  Wind_Speed  Cloud_Cover     Pressure\n",
       "0    19.096119  71.651723   14.782324    48.699257   987.954760\n",
       "1    27.112464  84.183705   13.289986    10.375646  1035.430870\n",
       "2    20.433329  42.290424    7.216295     6.673307  1033.628086\n",
       "3    19.576659  40.679280    4.568833    55.026758  1038.832300\n",
       "4    19.828060  93.353211    0.104489    30.687566  1009.423717"
      ]
     },
     "metadata": {},
     "output_type": "display_data"
    },
    {
     "data": {
      "text/html": [
       "<div>\n",
       "<style scoped>\n",
       "    .dataframe tbody tr th:only-of-type {\n",
       "        vertical-align: middle;\n",
       "    }\n",
       "\n",
       "    .dataframe tbody tr th {\n",
       "        vertical-align: top;\n",
       "    }\n",
       "\n",
       "    .dataframe thead th {\n",
       "        text-align: right;\n",
       "    }\n",
       "</style>\n",
       "<table border=\"1\" class=\"dataframe\">\n",
       "  <thead>\n",
       "    <tr style=\"text-align: right;\">\n",
       "      <th></th>\n",
       "      <th>Rain</th>\n",
       "    </tr>\n",
       "  </thead>\n",
       "  <tbody>\n",
       "    <tr>\n",
       "      <th>0</th>\n",
       "      <td>no rain</td>\n",
       "    </tr>\n",
       "    <tr>\n",
       "      <th>1</th>\n",
       "      <td>no rain</td>\n",
       "    </tr>\n",
       "    <tr>\n",
       "      <th>2</th>\n",
       "      <td>no rain</td>\n",
       "    </tr>\n",
       "    <tr>\n",
       "      <th>3</th>\n",
       "      <td>no rain</td>\n",
       "    </tr>\n",
       "    <tr>\n",
       "      <th>4</th>\n",
       "      <td>no rain</td>\n",
       "    </tr>\n",
       "  </tbody>\n",
       "</table>\n",
       "</div>"
      ],
      "text/plain": [
       "      Rain\n",
       "0  no rain\n",
       "1  no rain\n",
       "2  no rain\n",
       "3  no rain\n",
       "4  no rain"
      ]
     },
     "metadata": {},
     "output_type": "display_data"
    },
    {
     "name": "stdout",
     "output_type": "stream",
     "text": [
      "Dropped nulls data:\n"
     ]
    },
    {
     "data": {
      "text/html": [
       "<div>\n",
       "<style scoped>\n",
       "    .dataframe tbody tr th:only-of-type {\n",
       "        vertical-align: middle;\n",
       "    }\n",
       "\n",
       "    .dataframe tbody tr th {\n",
       "        vertical-align: top;\n",
       "    }\n",
       "\n",
       "    .dataframe thead th {\n",
       "        text-align: right;\n",
       "    }\n",
       "</style>\n",
       "<table border=\"1\" class=\"dataframe\">\n",
       "  <thead>\n",
       "    <tr style=\"text-align: right;\">\n",
       "      <th></th>\n",
       "      <th>Temperature</th>\n",
       "      <th>Humidity</th>\n",
       "      <th>Wind_Speed</th>\n",
       "      <th>Cloud_Cover</th>\n",
       "      <th>Pressure</th>\n",
       "    </tr>\n",
       "  </thead>\n",
       "  <tbody>\n",
       "    <tr>\n",
       "      <th>0</th>\n",
       "      <td>19.096119</td>\n",
       "      <td>71.651723</td>\n",
       "      <td>14.782324</td>\n",
       "      <td>48.699257</td>\n",
       "      <td>987.954760</td>\n",
       "    </tr>\n",
       "    <tr>\n",
       "      <th>1</th>\n",
       "      <td>27.112464</td>\n",
       "      <td>84.183705</td>\n",
       "      <td>13.289986</td>\n",
       "      <td>10.375646</td>\n",
       "      <td>1035.430870</td>\n",
       "    </tr>\n",
       "    <tr>\n",
       "      <th>2</th>\n",
       "      <td>20.433329</td>\n",
       "      <td>42.290424</td>\n",
       "      <td>7.216295</td>\n",
       "      <td>6.673307</td>\n",
       "      <td>1033.628086</td>\n",
       "    </tr>\n",
       "    <tr>\n",
       "      <th>3</th>\n",
       "      <td>19.576659</td>\n",
       "      <td>40.679280</td>\n",
       "      <td>4.568833</td>\n",
       "      <td>55.026758</td>\n",
       "      <td>1038.832300</td>\n",
       "    </tr>\n",
       "    <tr>\n",
       "      <th>4</th>\n",
       "      <td>19.828060</td>\n",
       "      <td>93.353211</td>\n",
       "      <td>0.104489</td>\n",
       "      <td>30.687566</td>\n",
       "      <td>1009.423717</td>\n",
       "    </tr>\n",
       "  </tbody>\n",
       "</table>\n",
       "</div>"
      ],
      "text/plain": [
       "   Temperature   Humidity  Wind_Speed  Cloud_Cover     Pressure\n",
       "0    19.096119  71.651723   14.782324    48.699257   987.954760\n",
       "1    27.112464  84.183705   13.289986    10.375646  1035.430870\n",
       "2    20.433329  42.290424    7.216295     6.673307  1033.628086\n",
       "3    19.576659  40.679280    4.568833    55.026758  1038.832300\n",
       "4    19.828060  93.353211    0.104489    30.687566  1009.423717"
      ]
     },
     "metadata": {},
     "output_type": "display_data"
    },
    {
     "data": {
      "text/html": [
       "<div>\n",
       "<style scoped>\n",
       "    .dataframe tbody tr th:only-of-type {\n",
       "        vertical-align: middle;\n",
       "    }\n",
       "\n",
       "    .dataframe tbody tr th {\n",
       "        vertical-align: top;\n",
       "    }\n",
       "\n",
       "    .dataframe thead th {\n",
       "        text-align: right;\n",
       "    }\n",
       "</style>\n",
       "<table border=\"1\" class=\"dataframe\">\n",
       "  <thead>\n",
       "    <tr style=\"text-align: right;\">\n",
       "      <th></th>\n",
       "      <th>Rain</th>\n",
       "    </tr>\n",
       "  </thead>\n",
       "  <tbody>\n",
       "    <tr>\n",
       "      <th>0</th>\n",
       "      <td>no rain</td>\n",
       "    </tr>\n",
       "    <tr>\n",
       "      <th>1</th>\n",
       "      <td>no rain</td>\n",
       "    </tr>\n",
       "    <tr>\n",
       "      <th>2</th>\n",
       "      <td>no rain</td>\n",
       "    </tr>\n",
       "    <tr>\n",
       "      <th>3</th>\n",
       "      <td>no rain</td>\n",
       "    </tr>\n",
       "    <tr>\n",
       "      <th>4</th>\n",
       "      <td>no rain</td>\n",
       "    </tr>\n",
       "  </tbody>\n",
       "</table>\n",
       "</div>"
      ],
      "text/plain": [
       "      Rain\n",
       "0  no rain\n",
       "1  no rain\n",
       "2  no rain\n",
       "3  no rain\n",
       "4  no rain"
      ]
     },
     "metadata": {},
     "output_type": "display_data"
    }
   ],
   "source": [
    "targets_columns=[\"Rain\"]\n",
    "\n",
    "df_targets_filled_avg = df_filled_avg[targets_columns]\n",
    "df_features_filled_avg = df_filled_avg.drop(columns=targets_columns)\n",
    "\n",
    "df_targets_dropped_nulls = df_dropped_nulls[targets_columns]\n",
    "df_features_dropped_nulls = df_dropped_nulls.drop(columns=targets_columns)\n",
    "\n",
    "print(\"Avg data:\")\n",
    "display(df_features_filled_avg.head())\n",
    "display(df_targets_filled_avg.head())\n",
    "\n",
    "print(\"Dropped nulls data:\")\n",
    "display(df_features_dropped_nulls.head())\n",
    "display(df_targets_dropped_nulls.head())\n"
   ]
  },
  {
   "cell_type": "markdown",
   "metadata": {},
   "source": [
    ">#### splitting data into train , test"
   ]
  },
  {
   "cell_type": "code",
   "execution_count": 100,
   "metadata": {},
   "outputs": [
    {
     "name": "stdout",
     "output_type": "stream",
     "text": [
      "2000\n",
      "500\n",
      "2000\n",
      "500\n",
      "1877\n",
      "470\n",
      "1877\n",
      "470\n"
     ]
    }
   ],
   "source": [
    "\n",
    "# make the 80% from the data training set and 20% from the data testing set\n",
    "# random state to ensure that the split return the same data each run\n",
    "\n",
    "df_features_train_avg, df_features_test_avg, df_targets_train_avg, df_targets_test_avg = train_test_split(df_features_filled_avg, df_targets_filled_avg, test_size=0.2, random_state=42) \n",
    "df_features_train_dropped, df_features_test_dropped, df_targets_train_dropped, df_targets_test_dropped = train_test_split(df_features_dropped_nulls, df_targets_dropped_nulls, test_size=0.2, random_state=42) \n",
    "\n",
    "print(len(df_features_train_avg))\n",
    "print(len(df_features_test_avg))\n",
    "print(len(df_targets_train_avg))\n",
    "print(len(df_targets_test_avg))\n",
    "\n",
    "print(len(df_features_train_dropped))\n",
    "print(len(df_features_test_dropped))\n",
    "print(len(df_targets_train_dropped))\n",
    "print(len(df_targets_test_dropped))\n"
   ]
  },
  {
   "cell_type": "markdown",
   "metadata": {},
   "source": [
    "> #### encode the targets"
   ]
  },
  {
   "cell_type": "code",
   "execution_count": 101,
   "metadata": {},
   "outputs": [],
   "source": [
    "# final targets will be worked on \n",
    "\n",
    "label_encoder = LabelEncoder()\n",
    "df_targets_train_avg = label_encoder.fit_transform(df_targets_train_avg.values.ravel())\n",
    "df_targets_test_avg = label_encoder.fit_transform(df_targets_test_avg.values.ravel())\n",
    "\n",
    "df_targets_train_dropped = label_encoder.fit_transform(df_targets_train_dropped.values.ravel())\n",
    "df_targets_test_dropped = label_encoder.fit_transform(df_targets_test_dropped.values.ravel())\n",
    "\n"
   ]
  },
  {
   "cell_type": "markdown",
   "metadata": {},
   "source": [
    ">#### check scaling of data"
   ]
  },
  {
   "cell_type": "code",
   "execution_count": 102,
   "metadata": {},
   "outputs": [
    {
     "name": "stdout",
     "output_type": "stream",
     "text": [
      "filled avg data:\n"
     ]
    },
    {
     "data": {
      "text/html": [
       "<div>\n",
       "<style scoped>\n",
       "    .dataframe tbody tr th:only-of-type {\n",
       "        vertical-align: middle;\n",
       "    }\n",
       "\n",
       "    .dataframe tbody tr th {\n",
       "        vertical-align: top;\n",
       "    }\n",
       "\n",
       "    .dataframe thead th {\n",
       "        text-align: right;\n",
       "    }\n",
       "</style>\n",
       "<table border=\"1\" class=\"dataframe\">\n",
       "  <thead>\n",
       "    <tr style=\"text-align: right;\">\n",
       "      <th></th>\n",
       "      <th>count</th>\n",
       "      <th>mean</th>\n",
       "      <th>std</th>\n",
       "      <th>min</th>\n",
       "      <th>25%</th>\n",
       "      <th>50%</th>\n",
       "      <th>75%</th>\n",
       "      <th>max</th>\n",
       "    </tr>\n",
       "  </thead>\n",
       "  <tbody>\n",
       "    <tr>\n",
       "      <th>Temperature</th>\n",
       "      <td>2500.0</td>\n",
       "      <td>22.573777</td>\n",
       "      <td>7.295628</td>\n",
       "      <td>10.001842</td>\n",
       "      <td>16.417898</td>\n",
       "      <td>22.573777</td>\n",
       "      <td>28.934369</td>\n",
       "      <td>34.995214</td>\n",
       "    </tr>\n",
       "    <tr>\n",
       "      <th>Humidity</th>\n",
       "      <td>2500.0</td>\n",
       "      <td>64.366909</td>\n",
       "      <td>19.813325</td>\n",
       "      <td>30.005071</td>\n",
       "      <td>47.493987</td>\n",
       "      <td>64.366909</td>\n",
       "      <td>81.445049</td>\n",
       "      <td>99.997481</td>\n",
       "    </tr>\n",
       "    <tr>\n",
       "      <th>Wind_Speed</th>\n",
       "      <td>2500.0</td>\n",
       "      <td>9.911826</td>\n",
       "      <td>5.743575</td>\n",
       "      <td>0.009819</td>\n",
       "      <td>4.829795</td>\n",
       "      <td>9.911826</td>\n",
       "      <td>14.889660</td>\n",
       "      <td>19.999132</td>\n",
       "    </tr>\n",
       "    <tr>\n",
       "      <th>Cloud_Cover</th>\n",
       "      <td>2500.0</td>\n",
       "      <td>49.808770</td>\n",
       "      <td>28.869772</td>\n",
       "      <td>0.015038</td>\n",
       "      <td>24.817296</td>\n",
       "      <td>49.808770</td>\n",
       "      <td>74.989410</td>\n",
       "      <td>99.997795</td>\n",
       "    </tr>\n",
       "    <tr>\n",
       "      <th>Pressure</th>\n",
       "      <td>2500.0</td>\n",
       "      <td>1014.409327</td>\n",
       "      <td>20.072933</td>\n",
       "      <td>980.014486</td>\n",
       "      <td>997.190281</td>\n",
       "      <td>1014.095390</td>\n",
       "      <td>1031.606187</td>\n",
       "      <td>1049.985593</td>\n",
       "    </tr>\n",
       "  </tbody>\n",
       "</table>\n",
       "</div>"
      ],
      "text/plain": [
       "              count         mean        std         min         25%  \\\n",
       "Temperature  2500.0    22.573777   7.295628   10.001842   16.417898   \n",
       "Humidity     2500.0    64.366909  19.813325   30.005071   47.493987   \n",
       "Wind_Speed   2500.0     9.911826   5.743575    0.009819    4.829795   \n",
       "Cloud_Cover  2500.0    49.808770  28.869772    0.015038   24.817296   \n",
       "Pressure     2500.0  1014.409327  20.072933  980.014486  997.190281   \n",
       "\n",
       "                     50%          75%          max  \n",
       "Temperature    22.573777    28.934369    34.995214  \n",
       "Humidity       64.366909    81.445049    99.997481  \n",
       "Wind_Speed      9.911826    14.889660    19.999132  \n",
       "Cloud_Cover    49.808770    74.989410    99.997795  \n",
       "Pressure     1014.095390  1031.606187  1049.985593  "
      ]
     },
     "metadata": {},
     "output_type": "display_data"
    },
    {
     "name": "stdout",
     "output_type": "stream",
     "text": [
      "dropped nulls data:\n"
     ]
    },
    {
     "data": {
      "text/html": [
       "<div>\n",
       "<style scoped>\n",
       "    .dataframe tbody tr th:only-of-type {\n",
       "        vertical-align: middle;\n",
       "    }\n",
       "\n",
       "    .dataframe tbody tr th {\n",
       "        vertical-align: top;\n",
       "    }\n",
       "\n",
       "    .dataframe thead th {\n",
       "        text-align: right;\n",
       "    }\n",
       "</style>\n",
       "<table border=\"1\" class=\"dataframe\">\n",
       "  <thead>\n",
       "    <tr style=\"text-align: right;\">\n",
       "      <th></th>\n",
       "      <th>count</th>\n",
       "      <th>mean</th>\n",
       "      <th>std</th>\n",
       "      <th>min</th>\n",
       "      <th>25%</th>\n",
       "      <th>50%</th>\n",
       "      <th>75%</th>\n",
       "      <th>max</th>\n",
       "    </tr>\n",
       "  </thead>\n",
       "  <tbody>\n",
       "    <tr>\n",
       "      <th>Temperature</th>\n",
       "      <td>2347.0</td>\n",
       "      <td>22.586674</td>\n",
       "      <td>7.325814</td>\n",
       "      <td>10.001842</td>\n",
       "      <td>16.423651</td>\n",
       "      <td>22.533110</td>\n",
       "      <td>28.967040</td>\n",
       "      <td>34.995214</td>\n",
       "    </tr>\n",
       "    <tr>\n",
       "      <th>Humidity</th>\n",
       "      <td>2347.0</td>\n",
       "      <td>64.313486</td>\n",
       "      <td>19.969574</td>\n",
       "      <td>30.005071</td>\n",
       "      <td>47.124078</td>\n",
       "      <td>64.044753</td>\n",
       "      <td>81.607683</td>\n",
       "      <td>99.997481</td>\n",
       "    </tr>\n",
       "    <tr>\n",
       "      <th>Wind_Speed</th>\n",
       "      <td>2347.0</td>\n",
       "      <td>9.936976</td>\n",
       "      <td>5.778717</td>\n",
       "      <td>0.009819</td>\n",
       "      <td>4.786505</td>\n",
       "      <td>9.999957</td>\n",
       "      <td>14.955263</td>\n",
       "      <td>19.999132</td>\n",
       "    </tr>\n",
       "    <tr>\n",
       "      <th>Cloud_Cover</th>\n",
       "      <td>2347.0</td>\n",
       "      <td>49.826460</td>\n",
       "      <td>29.163519</td>\n",
       "      <td>0.015038</td>\n",
       "      <td>24.119752</td>\n",
       "      <td>49.735062</td>\n",
       "      <td>75.496921</td>\n",
       "      <td>99.997795</td>\n",
       "    </tr>\n",
       "    <tr>\n",
       "      <th>Pressure</th>\n",
       "      <td>2347.0</td>\n",
       "      <td>1014.362428</td>\n",
       "      <td>20.157864</td>\n",
       "      <td>980.014486</td>\n",
       "      <td>997.010203</td>\n",
       "      <td>1013.591009</td>\n",
       "      <td>1031.683526</td>\n",
       "      <td>1049.985593</td>\n",
       "    </tr>\n",
       "  </tbody>\n",
       "</table>\n",
       "</div>"
      ],
      "text/plain": [
       "              count         mean        std         min         25%  \\\n",
       "Temperature  2347.0    22.586674   7.325814   10.001842   16.423651   \n",
       "Humidity     2347.0    64.313486  19.969574   30.005071   47.124078   \n",
       "Wind_Speed   2347.0     9.936976   5.778717    0.009819    4.786505   \n",
       "Cloud_Cover  2347.0    49.826460  29.163519    0.015038   24.119752   \n",
       "Pressure     2347.0  1014.362428  20.157864  980.014486  997.010203   \n",
       "\n",
       "                     50%          75%          max  \n",
       "Temperature    22.533110    28.967040    34.995214  \n",
       "Humidity       64.044753    81.607683    99.997481  \n",
       "Wind_Speed      9.999957    14.955263    19.999132  \n",
       "Cloud_Cover    49.735062    75.496921    99.997795  \n",
       "Pressure     1013.591009  1031.683526  1049.985593  "
      ]
     },
     "metadata": {},
     "output_type": "display_data"
    }
   ],
   "source": [
    "\n",
    "print(\"filled avg data:\")\n",
    "display(df_filled_avg.describe().T)\n",
    "\n",
    "print(\"dropped nulls data:\")\n",
    "display(df_dropped_nulls.describe().T)\n",
    "\n",
    "# according to the output from min, max the numeric features dosn't have the same scale"
   ]
  },
  {
   "cell_type": "markdown",
   "metadata": {},
   "source": [
    ">#### features are scaled"
   ]
  },
  {
   "cell_type": "code",
   "execution_count": 103,
   "metadata": {},
   "outputs": [
    {
     "name": "stdout",
     "output_type": "stream",
     "text": [
      "Avg Features:\n"
     ]
    },
    {
     "data": {
      "text/html": [
       "<div>\n",
       "<style scoped>\n",
       "    .dataframe tbody tr th:only-of-type {\n",
       "        vertical-align: middle;\n",
       "    }\n",
       "\n",
       "    .dataframe tbody tr th {\n",
       "        vertical-align: top;\n",
       "    }\n",
       "\n",
       "    .dataframe thead th {\n",
       "        text-align: right;\n",
       "    }\n",
       "</style>\n",
       "<table border=\"1\" class=\"dataframe\">\n",
       "  <thead>\n",
       "    <tr style=\"text-align: right;\">\n",
       "      <th></th>\n",
       "      <th>count</th>\n",
       "      <th>mean</th>\n",
       "      <th>std</th>\n",
       "      <th>min</th>\n",
       "      <th>25%</th>\n",
       "      <th>50%</th>\n",
       "      <th>75%</th>\n",
       "      <th>max</th>\n",
       "    </tr>\n",
       "  </thead>\n",
       "  <tbody>\n",
       "    <tr>\n",
       "      <th>Temperature</th>\n",
       "      <td>2000.0</td>\n",
       "      <td>0.506499</td>\n",
       "      <td>0.292666</td>\n",
       "      <td>0.0</td>\n",
       "      <td>0.263005</td>\n",
       "      <td>0.503011</td>\n",
       "      <td>0.762510</td>\n",
       "      <td>1.0</td>\n",
       "    </tr>\n",
       "    <tr>\n",
       "      <th>Humidity</th>\n",
       "      <td>2000.0</td>\n",
       "      <td>0.491764</td>\n",
       "      <td>0.281929</td>\n",
       "      <td>0.0</td>\n",
       "      <td>0.250021</td>\n",
       "      <td>0.490937</td>\n",
       "      <td>0.733030</td>\n",
       "      <td>1.0</td>\n",
       "    </tr>\n",
       "    <tr>\n",
       "      <th>Wind_Speed</th>\n",
       "      <td>2000.0</td>\n",
       "      <td>0.501153</td>\n",
       "      <td>0.288227</td>\n",
       "      <td>0.0</td>\n",
       "      <td>0.244891</td>\n",
       "      <td>0.499983</td>\n",
       "      <td>0.748708</td>\n",
       "      <td>1.0</td>\n",
       "    </tr>\n",
       "    <tr>\n",
       "      <th>Cloud_Cover</th>\n",
       "      <td>2000.0</td>\n",
       "      <td>0.496960</td>\n",
       "      <td>0.287835</td>\n",
       "      <td>0.0</td>\n",
       "      <td>0.249344</td>\n",
       "      <td>0.498158</td>\n",
       "      <td>0.746333</td>\n",
       "      <td>1.0</td>\n",
       "    </tr>\n",
       "    <tr>\n",
       "      <th>Pressure</th>\n",
       "      <td>2000.0</td>\n",
       "      <td>0.492344</td>\n",
       "      <td>0.287435</td>\n",
       "      <td>0.0</td>\n",
       "      <td>0.242902</td>\n",
       "      <td>0.490190</td>\n",
       "      <td>0.741476</td>\n",
       "      <td>1.0</td>\n",
       "    </tr>\n",
       "  </tbody>\n",
       "</table>\n",
       "</div>"
      ],
      "text/plain": [
       "              count      mean       std  min       25%       50%       75%  \\\n",
       "Temperature  2000.0  0.506499  0.292666  0.0  0.263005  0.503011  0.762510   \n",
       "Humidity     2000.0  0.491764  0.281929  0.0  0.250021  0.490937  0.733030   \n",
       "Wind_Speed   2000.0  0.501153  0.288227  0.0  0.244891  0.499983  0.748708   \n",
       "Cloud_Cover  2000.0  0.496960  0.287835  0.0  0.249344  0.498158  0.746333   \n",
       "Pressure     2000.0  0.492344  0.287435  0.0  0.242902  0.490190  0.741476   \n",
       "\n",
       "             max  \n",
       "Temperature  1.0  \n",
       "Humidity     1.0  \n",
       "Wind_Speed   1.0  \n",
       "Cloud_Cover  1.0  \n",
       "Pressure     1.0  "
      ]
     },
     "metadata": {},
     "output_type": "display_data"
    },
    {
     "data": {
      "text/html": [
       "<div>\n",
       "<style scoped>\n",
       "    .dataframe tbody tr th:only-of-type {\n",
       "        vertical-align: middle;\n",
       "    }\n",
       "\n",
       "    .dataframe tbody tr th {\n",
       "        vertical-align: top;\n",
       "    }\n",
       "\n",
       "    .dataframe thead th {\n",
       "        text-align: right;\n",
       "    }\n",
       "</style>\n",
       "<table border=\"1\" class=\"dataframe\">\n",
       "  <thead>\n",
       "    <tr style=\"text-align: right;\">\n",
       "      <th></th>\n",
       "      <th>count</th>\n",
       "      <th>mean</th>\n",
       "      <th>std</th>\n",
       "      <th>min</th>\n",
       "      <th>25%</th>\n",
       "      <th>50%</th>\n",
       "      <th>75%</th>\n",
       "      <th>max</th>\n",
       "    </tr>\n",
       "  </thead>\n",
       "  <tbody>\n",
       "    <tr>\n",
       "      <th>Temperature</th>\n",
       "      <td>500.0</td>\n",
       "      <td>0.488750</td>\n",
       "      <td>0.289415</td>\n",
       "      <td>0.0</td>\n",
       "      <td>0.236743</td>\n",
       "      <td>0.464640</td>\n",
       "      <td>0.731383</td>\n",
       "      <td>1.0</td>\n",
       "    </tr>\n",
       "    <tr>\n",
       "      <th>Humidity</th>\n",
       "      <td>500.0</td>\n",
       "      <td>0.489338</td>\n",
       "      <td>0.290026</td>\n",
       "      <td>0.0</td>\n",
       "      <td>0.243240</td>\n",
       "      <td>0.474116</td>\n",
       "      <td>0.746185</td>\n",
       "      <td>1.0</td>\n",
       "    </tr>\n",
       "    <tr>\n",
       "      <th>Wind_Speed</th>\n",
       "      <td>500.0</td>\n",
       "      <td>0.472824</td>\n",
       "      <td>0.283364</td>\n",
       "      <td>0.0</td>\n",
       "      <td>0.232060</td>\n",
       "      <td>0.463631</td>\n",
       "      <td>0.725008</td>\n",
       "      <td>1.0</td>\n",
       "    </tr>\n",
       "    <tr>\n",
       "      <th>Cloud_Cover</th>\n",
       "      <td>500.0</td>\n",
       "      <td>0.500329</td>\n",
       "      <td>0.294379</td>\n",
       "      <td>0.0</td>\n",
       "      <td>0.231333</td>\n",
       "      <td>0.499276</td>\n",
       "      <td>0.756134</td>\n",
       "      <td>1.0</td>\n",
       "    </tr>\n",
       "    <tr>\n",
       "      <th>Pressure</th>\n",
       "      <td>500.0</td>\n",
       "      <td>0.488469</td>\n",
       "      <td>0.285447</td>\n",
       "      <td>0.0</td>\n",
       "      <td>0.259960</td>\n",
       "      <td>0.474189</td>\n",
       "      <td>0.728414</td>\n",
       "      <td>1.0</td>\n",
       "    </tr>\n",
       "  </tbody>\n",
       "</table>\n",
       "</div>"
      ],
      "text/plain": [
       "             count      mean       std  min       25%       50%       75%  max\n",
       "Temperature  500.0  0.488750  0.289415  0.0  0.236743  0.464640  0.731383  1.0\n",
       "Humidity     500.0  0.489338  0.290026  0.0  0.243240  0.474116  0.746185  1.0\n",
       "Wind_Speed   500.0  0.472824  0.283364  0.0  0.232060  0.463631  0.725008  1.0\n",
       "Cloud_Cover  500.0  0.500329  0.294379  0.0  0.231333  0.499276  0.756134  1.0\n",
       "Pressure     500.0  0.488469  0.285447  0.0  0.259960  0.474189  0.728414  1.0"
      ]
     },
     "metadata": {},
     "output_type": "display_data"
    },
    {
     "name": "stdout",
     "output_type": "stream",
     "text": [
      "Dropped Nulls Features:\n"
     ]
    },
    {
     "data": {
      "text/html": [
       "<div>\n",
       "<style scoped>\n",
       "    .dataframe tbody tr th:only-of-type {\n",
       "        vertical-align: middle;\n",
       "    }\n",
       "\n",
       "    .dataframe tbody tr th {\n",
       "        vertical-align: top;\n",
       "    }\n",
       "\n",
       "    .dataframe thead th {\n",
       "        text-align: right;\n",
       "    }\n",
       "</style>\n",
       "<table border=\"1\" class=\"dataframe\">\n",
       "  <thead>\n",
       "    <tr style=\"text-align: right;\">\n",
       "      <th></th>\n",
       "      <th>count</th>\n",
       "      <th>mean</th>\n",
       "      <th>std</th>\n",
       "      <th>min</th>\n",
       "      <th>25%</th>\n",
       "      <th>50%</th>\n",
       "      <th>75%</th>\n",
       "      <th>max</th>\n",
       "    </tr>\n",
       "  </thead>\n",
       "  <tbody>\n",
       "    <tr>\n",
       "      <th>Temperature</th>\n",
       "      <td>1877.0</td>\n",
       "      <td>0.497178</td>\n",
       "      <td>0.293764</td>\n",
       "      <td>0.0</td>\n",
       "      <td>0.248745</td>\n",
       "      <td>0.490515</td>\n",
       "      <td>0.749226</td>\n",
       "      <td>1.0</td>\n",
       "    </tr>\n",
       "    <tr>\n",
       "      <th>Humidity</th>\n",
       "      <td>1877.0</td>\n",
       "      <td>0.488656</td>\n",
       "      <td>0.283626</td>\n",
       "      <td>0.0</td>\n",
       "      <td>0.248805</td>\n",
       "      <td>0.474163</td>\n",
       "      <td>0.734980</td>\n",
       "      <td>1.0</td>\n",
       "    </tr>\n",
       "    <tr>\n",
       "      <th>Wind_Speed</th>\n",
       "      <td>1877.0</td>\n",
       "      <td>0.492438</td>\n",
       "      <td>0.291209</td>\n",
       "      <td>0.0</td>\n",
       "      <td>0.232123</td>\n",
       "      <td>0.491321</td>\n",
       "      <td>0.749934</td>\n",
       "      <td>1.0</td>\n",
       "    </tr>\n",
       "    <tr>\n",
       "      <th>Cloud_Cover</th>\n",
       "      <td>1877.0</td>\n",
       "      <td>0.499717</td>\n",
       "      <td>0.290004</td>\n",
       "      <td>0.0</td>\n",
       "      <td>0.248798</td>\n",
       "      <td>0.499390</td>\n",
       "      <td>0.754878</td>\n",
       "      <td>1.0</td>\n",
       "    </tr>\n",
       "    <tr>\n",
       "      <th>Pressure</th>\n",
       "      <td>1877.0</td>\n",
       "      <td>0.492982</td>\n",
       "      <td>0.285565</td>\n",
       "      <td>0.0</td>\n",
       "      <td>0.247547</td>\n",
       "      <td>0.488191</td>\n",
       "      <td>0.734393</td>\n",
       "      <td>1.0</td>\n",
       "    </tr>\n",
       "  </tbody>\n",
       "</table>\n",
       "</div>"
      ],
      "text/plain": [
       "              count      mean       std  min       25%       50%       75%  \\\n",
       "Temperature  1877.0  0.497178  0.293764  0.0  0.248745  0.490515  0.749226   \n",
       "Humidity     1877.0  0.488656  0.283626  0.0  0.248805  0.474163  0.734980   \n",
       "Wind_Speed   1877.0  0.492438  0.291209  0.0  0.232123  0.491321  0.749934   \n",
       "Cloud_Cover  1877.0  0.499717  0.290004  0.0  0.248798  0.499390  0.754878   \n",
       "Pressure     1877.0  0.492982  0.285565  0.0  0.247547  0.488191  0.734393   \n",
       "\n",
       "             max  \n",
       "Temperature  1.0  \n",
       "Humidity     1.0  \n",
       "Wind_Speed   1.0  \n",
       "Cloud_Cover  1.0  \n",
       "Pressure     1.0  "
      ]
     },
     "metadata": {},
     "output_type": "display_data"
    },
    {
     "data": {
      "text/html": [
       "<div>\n",
       "<style scoped>\n",
       "    .dataframe tbody tr th:only-of-type {\n",
       "        vertical-align: middle;\n",
       "    }\n",
       "\n",
       "    .dataframe tbody tr th {\n",
       "        vertical-align: top;\n",
       "    }\n",
       "\n",
       "    .dataframe thead th {\n",
       "        text-align: right;\n",
       "    }\n",
       "</style>\n",
       "<table border=\"1\" class=\"dataframe\">\n",
       "  <thead>\n",
       "    <tr style=\"text-align: right;\">\n",
       "      <th></th>\n",
       "      <th>count</th>\n",
       "      <th>mean</th>\n",
       "      <th>std</th>\n",
       "      <th>min</th>\n",
       "      <th>25%</th>\n",
       "      <th>50%</th>\n",
       "      <th>75%</th>\n",
       "      <th>max</th>\n",
       "    </tr>\n",
       "  </thead>\n",
       "  <tbody>\n",
       "    <tr>\n",
       "      <th>Temperature</th>\n",
       "      <td>470.0</td>\n",
       "      <td>0.529435</td>\n",
       "      <td>0.290165</td>\n",
       "      <td>0.0</td>\n",
       "      <td>0.290982</td>\n",
       "      <td>0.528517</td>\n",
       "      <td>0.793467</td>\n",
       "      <td>1.0</td>\n",
       "    </tr>\n",
       "    <tr>\n",
       "      <th>Humidity</th>\n",
       "      <td>470.0</td>\n",
       "      <td>0.494272</td>\n",
       "      <td>0.294920</td>\n",
       "      <td>0.0</td>\n",
       "      <td>0.223696</td>\n",
       "      <td>0.519375</td>\n",
       "      <td>0.749021</td>\n",
       "      <td>1.0</td>\n",
       "    </tr>\n",
       "    <tr>\n",
       "      <th>Wind_Speed</th>\n",
       "      <td>470.0</td>\n",
       "      <td>0.515918</td>\n",
       "      <td>0.282214</td>\n",
       "      <td>0.0</td>\n",
       "      <td>0.272153</td>\n",
       "      <td>0.518262</td>\n",
       "      <td>0.744146</td>\n",
       "      <td>1.0</td>\n",
       "    </tr>\n",
       "    <tr>\n",
       "      <th>Cloud_Cover</th>\n",
       "      <td>470.0</td>\n",
       "      <td>0.493167</td>\n",
       "      <td>0.299863</td>\n",
       "      <td>0.0</td>\n",
       "      <td>0.206764</td>\n",
       "      <td>0.487291</td>\n",
       "      <td>0.758169</td>\n",
       "      <td>1.0</td>\n",
       "    </tr>\n",
       "    <tr>\n",
       "      <th>Pressure</th>\n",
       "      <td>470.0</td>\n",
       "      <td>0.481538</td>\n",
       "      <td>0.300484</td>\n",
       "      <td>0.0</td>\n",
       "      <td>0.214517</td>\n",
       "      <td>0.451898</td>\n",
       "      <td>0.753069</td>\n",
       "      <td>1.0</td>\n",
       "    </tr>\n",
       "  </tbody>\n",
       "</table>\n",
       "</div>"
      ],
      "text/plain": [
       "             count      mean       std  min       25%       50%       75%  max\n",
       "Temperature  470.0  0.529435  0.290165  0.0  0.290982  0.528517  0.793467  1.0\n",
       "Humidity     470.0  0.494272  0.294920  0.0  0.223696  0.519375  0.749021  1.0\n",
       "Wind_Speed   470.0  0.515918  0.282214  0.0  0.272153  0.518262  0.744146  1.0\n",
       "Cloud_Cover  470.0  0.493167  0.299863  0.0  0.206764  0.487291  0.758169  1.0\n",
       "Pressure     470.0  0.481538  0.300484  0.0  0.214517  0.451898  0.753069  1.0"
      ]
     },
     "metadata": {},
     "output_type": "display_data"
    }
   ],
   "source": [
    "scaler = MinMaxScaler()\n",
    "\n",
    "# the scaler return ndarray\n",
    "\n",
    "df_features_train_avg = scaler.fit_transform(df_features_train_avg)\n",
    "df_features_test_avg = scaler.fit_transform(df_features_test_avg)\n",
    "\n",
    "\n",
    "df_features_train_dropped = scaler.fit_transform(df_features_train_dropped)\n",
    "df_features_test_dropped = scaler.fit_transform(df_features_test_dropped)\n",
    "\n",
    "\n",
    "# convert the ndarray to DataFrame\n",
    "# final features will be worked on\n",
    "\n",
    "df_features_train_avg = pd.DataFrame(df_features_train_avg, columns=df_features_filled_avg.columns)\n",
    "df_features_test_avg = pd.DataFrame(df_features_test_avg, columns=df_features_filled_avg.columns)\n",
    "\n",
    "\n",
    "df_features_train_dropped = pd.DataFrame(df_features_train_dropped, columns=df_features_dropped_nulls.columns)\n",
    "df_features_test_dropped = pd.DataFrame(df_features_test_dropped, columns=df_features_dropped_nulls.columns)\n",
    "\n",
    "\n",
    "print(\"Avg Features:\")\n",
    "display(df_features_train_avg.describe().T)\n",
    "display(df_features_test_avg.describe().T)\n",
    "\n",
    "print(\"Dropped Nulls Features:\")\n",
    "display(df_features_train_dropped.describe().T)\n",
    "display(df_features_test_dropped.describe().T)"
   ]
  },
  {
   "cell_type": "markdown",
   "metadata": {},
   "source": [
    "## Implement Decision Tree, k-Nearest Neighbors (kNN) and naïve Bayes"
   ]
  },
  {
   "cell_type": "markdown",
   "metadata": {},
   "source": [
    ">#### Evaluate accuracy, precision, and recall "
   ]
  },
  {
   "cell_type": "code",
   "execution_count": 104,
   "metadata": {},
   "outputs": [],
   "source": [
    "\n",
    "def evaluateModels(target, predictions):\n",
    "    # get the percentage \n",
    "    accuracy = accuracy_score(target, predictions) * 100\n",
    "    precision = precision_score(target, predictions) * 100\n",
    "    recall = recall_score(target, predictions) * 100\n",
    "\n",
    "\n",
    "    print(f\"Accuracy: {accuracy:.2f}%\", f\"Precision: {precision:.2f}%\", f\"Recall: {recall:.2f}%\")\n",
    "    return accuracy, precision, recall\n"
   ]
  },
  {
   "cell_type": "markdown",
   "metadata": {},
   "source": [
    ">#### KNN with scikit-learn"
   ]
  },
  {
   "cell_type": "code",
   "execution_count": 105,
   "metadata": {},
   "outputs": [
    {
     "name": "stdout",
     "output_type": "stream",
     "text": [
      "KNN using technique of replacing the nulls values with the mean \n",
      "Accuracy: 96.80% Precision: 91.67% Recall: 78.57%\n",
      "--------------------------------------------------------------------------------\n",
      "KNN using technique of dropping the nulls\n",
      "Accuracy: 95.96% Precision: 88.89% Recall: 82.35%\n"
     ]
    }
   ],
   "source": [
    "\n",
    "# KNN with scikit-learn using 5 Neighbors and brute force\n",
    "knnModel = KNeighborsClassifier(n_neighbors=5, algorithm='brute')\n",
    "\n",
    "# using technique of replacing the nulls values with the mean\n",
    "knnModel.fit(df_features_train_avg, df_targets_train_avg)\n",
    "\n",
    "knnPredictions = knnModel.predict(df_features_test_avg)\n",
    "print(\"KNN using technique of replacing the nulls values with the mean \")\n",
    "knn_accuracy_avg, knn_precision_avg, knn_recall_avg = evaluateModels(df_targets_test_avg, knnPredictions)\n",
    "\n",
    "print(\"-\"*80)\n",
    "\n",
    "# using technique of dropping the nulls\n",
    "print(\"KNN using technique of dropping the nulls\")\n",
    "\n",
    "knnModel.fit(df_features_train_dropped, df_targets_train_dropped)\n",
    "knnPredictions = knnModel.predict(df_features_test_dropped)\n",
    "knn_accuracy_dropped, knn_precision_dropped, knn_recall_dropped = evaluateModels(df_targets_test_dropped, knnPredictions)\n"
   ]
  },
  {
   "cell_type": "markdown",
   "metadata": {},
   "source": [
    ">#### KNN from scratch"
   ]
  },
  {
   "cell_type": "code",
   "execution_count": 106,
   "metadata": {},
   "outputs": [],
   "source": [
    "\n",
    "# get the distances between two points\n",
    "def eculidean_distance(p, q):\n",
    "    distance = 0\n",
    "    for i in range(len(q)):\n",
    "       distance += ( (p[i] - q[i] ) ** 2 )\n",
    "\n",
    "    return np.sqrt(distance)\n"
   ]
  },
  {
   "cell_type": "markdown",
   "metadata": {},
   "source": [
    "> #### find the neighbors of a point"
   ]
  },
  {
   "cell_type": "code",
   "execution_count": 107,
   "metadata": {},
   "outputs": [],
   "source": [
    "\n",
    "# find the neighbors of a point (x_test)\n",
    "# loop over the x_train to find the neighbors\n",
    "def find_neighbours(x_train, x_test, y_train):\n",
    "    n = len(x_train)\n",
    "    distances = np.zeros(n)\n",
    "    \n",
    "    for i in range(n):\n",
    "        distances[i] = eculidean_distance(x_train[i], x_test)\n",
    "\n",
    "\n",
    "    # convert distances and y_train to data frame to can concatenate\n",
    "    distances = pd.DataFrame(distances, columns=['Distance'])\n",
    "    y_train = pd.DataFrame(y_train, columns=['Target'])\n",
    "    neighbours = pd.concat([distances,y_train], axis=1)\n",
    "\n",
    "    # sort the neighbors according to the distances\n",
    "    neighbours = neighbours.sort_values(by='Distance', ascending=True).reset_index(drop=True)\n",
    "\n",
    "    return neighbours\n"
   ]
  },
  {
   "cell_type": "markdown",
   "metadata": {},
   "source": [
    "> ##### get y predict for a one x test"
   ]
  },
  {
   "cell_type": "code",
   "execution_count": 108,
   "metadata": {},
   "outputs": [],
   "source": [
    "\n",
    "# take the neighbors and k \n",
    "# Return the value with the highest count\n",
    "def get_y_predict(neighbours, k):\n",
    "    # get first k rows\n",
    "    top_k = neighbours.head(k)\n",
    "\n",
    "    # count the number of 0s and 1s\n",
    "    label_counts = top_k['Target'].value_counts()\n",
    "\n",
    "    # return the value with the highest count\n",
    "    return label_counts.idxmax()"
   ]
  },
  {
   "cell_type": "markdown",
   "metadata": {},
   "source": [
    "> ##### get y predict for the test data"
   ]
  },
  {
   "cell_type": "code",
   "execution_count": 109,
   "metadata": {},
   "outputs": [],
   "source": [
    "\n",
    "# return y predictions for the whole test set\n",
    "def predict(x_train, x_test, y_train, k):\n",
    "    y_predictions = np.zeros(len(x_test))\n",
    "    x_test = x_test.to_numpy()\n",
    "\n",
    "    # loop over the x_test\n",
    "    for i in range(len(x_test)):\n",
    "\n",
    "        # get the neighnours\n",
    "        neighbours = find_neighbours(x_train.to_numpy(), x_test[i], y_train)\n",
    "\n",
    "        # get the y prediction and update the list of predictions\n",
    "        y_predictions[i] = get_y_predict(neighbours, k)\n",
    "\n",
    "    return y_predictions\n"
   ]
  },
  {
   "cell_type": "markdown",
   "metadata": {},
   "source": [
    "> #### different k values for KNN algorithm"
   ]
  },
  {
   "cell_type": "code",
   "execution_count": 110,
   "metadata": {},
   "outputs": [
    {
     "name": "stdout",
     "output_type": "stream",
     "text": [
      "KNN FROM SCRATCH WITH K = 3\n",
      "Accuracy: 97.20% Precision: 90.38% Recall: 83.93%\n",
      "--------------------------------------------------------------------------------\n",
      "KNN FROM SCRATCH WITH K = 5\n",
      "Accuracy: 96.80% Precision: 91.67% Recall: 78.57%\n",
      "--------------------------------------------------------------------------------\n",
      "KNN FROM SCRATCH WITH K = 7\n",
      "Accuracy: 96.40% Precision: 88.00% Recall: 78.57%\n",
      "--------------------------------------------------------------------------------\n",
      "KNN FROM SCRATCH WITH K = 9\n",
      "Accuracy: 96.60% Precision: 88.24% Recall: 80.36%\n",
      "--------------------------------------------------------------------------------\n",
      "KNN FROM SCRATCH WITH K = 11\n",
      "Accuracy: 97.20% Precision: 90.38% Recall: 83.93%\n"
     ]
    }
   ],
   "source": [
    "# KNN from Scratch with k = 3\n",
    "knn_scratch_predictions = predict(df_features_train_avg, df_features_test_avg, df_targets_train_avg, 3)\n",
    "print(\"KNN FROM SCRATCH WITH K = 3\")\n",
    "knn3_scratch_accuracy, knn3_scratch_precision, knn3_scratch_recall = evaluateModels(df_targets_test_avg, knn_scratch_predictions)\n",
    "print(\"-\"*80)\n",
    "\n",
    "# KNN from Scratch with k = 5\n",
    "knn_scratch_predictions = predict(df_features_train_avg, df_features_test_avg, df_targets_train_avg, 5)\n",
    "print(\"KNN FROM SCRATCH WITH K = 5\")\n",
    "knn5_scratch_accuracy, knn5_scratch_precision, knn5_scratch_recall = evaluateModels(df_targets_test_avg, knn_scratch_predictions)\n",
    "print(\"-\"*80)\n",
    "\n",
    "# KNN from Scratch with k = 7\n",
    "knn_scratch_predictions = predict(df_features_train_avg, df_features_test_avg, df_targets_train_avg, 7)\n",
    "print(\"KNN FROM SCRATCH WITH K = 7\")\n",
    "knn7_scratch_accuracy, knn7_scratch_precision, knn7_scratch_recall = evaluateModels(df_targets_test_avg, knn_scratch_predictions)\n",
    "print(\"-\"*80)\n",
    "\n",
    "# KNN from Scratch with k = 9\n",
    "knn_scratch_predictions = predict(df_features_train_avg, df_features_test_avg, df_targets_train_avg, 9)\n",
    "print(\"KNN FROM SCRATCH WITH K = 9\")\n",
    "knn9_scratch_accuracy, knn9_scratch_precision, knn9_scratch_recall = evaluateModels(df_targets_test_avg, knn_scratch_predictions)\n",
    "print(\"-\"*80)\n",
    "\n",
    "# KNN from Scratch with k = 11\n",
    "knn_scratch_predictions = predict(df_features_train_avg, df_features_test_avg, df_targets_train_avg, 11)\n",
    "print(\"KNN FROM SCRATCH WITH K = 11\")\n",
    "knn11_scratch_accuracy, knn11_scratch_precision, knn11_scratch_recall = evaluateModels(df_targets_test_avg, knn_scratch_predictions)\n"
   ]
  },
  {
   "cell_type": "markdown",
   "metadata": {},
   "source": [
    ">#### Implement Decision Tree"
   ]
  },
  {
   "cell_type": "code",
   "execution_count": 111,
   "metadata": {},
   "outputs": [
    {
     "name": "stdout",
     "output_type": "stream",
     "text": [
      "Decision Tree usign averge filled\n",
      "Accuracy: 99.40% Precision: 98.18% Recall: 96.43%\n",
      "--------------------------------------------------------------------------------\n",
      "Decision Tree usign dropped nulls\n",
      "Accuracy: 100.00% Precision: 100.00% Recall: 100.00%\n"
     ]
    }
   ],
   "source": [
    "dt_model_avg = DecisionTreeClassifier(random_state=42,criterion=\"entropy\")\n",
    "\n",
    "dt_model_avg.fit(df_features_train_avg, df_targets_train_avg)  #usign averge filled\n",
    "\n",
    "dt_preds_avg = dt_model_avg.predict(df_features_test_avg)\n",
    "\n",
    "print(\"Decision Tree usign averge filled\")\n",
    "dt_accuracy_avg , dt_precision_avg , dt_recall_avg = evaluateModels(df_targets_test_avg , dt_preds_avg)\n",
    "\n",
    "print(\"-\"*80)\n",
    "\n",
    "dt_model_dropped = DecisionTreeClassifier(random_state=42,criterion=\"entropy\")\n",
    "\n",
    "\n",
    "dt_model_dropped.fit(df_features_train_dropped, df_targets_train_dropped) # using dropped nulls\n",
    "\n",
    "dt_preds_dropped = dt_model_dropped.predict(df_features_test_dropped)\n",
    "\n",
    "print(\"Decision Tree usign dropped nulls\")\n",
    "dt_accuracy_dropped , dt_precision_dropped , dt_recall_dropped = evaluateModels(df_targets_test_dropped , dt_preds_dropped)\n",
    "\n",
    "\n"
   ]
  },
  {
   "cell_type": "markdown",
   "metadata": {},
   "source": [
    "> #### Decision Tree Explanation Report"
   ]
  },
  {
   "cell_type": "markdown",
   "metadata": {},
   "source": [
    ">##### plot of the decision tree"
   ]
  },
  {
   "cell_type": "code",
   "execution_count": 112,
   "metadata": {},
   "outputs": [
    {
     "data": {
      "image/png": "[encoded data removed]",
      "text/plain": [
       "<Figure size 2000x1000 with 1 Axes>"
      ]
     },
     "metadata": {},
     "output_type": "display_data"
    }
   ],
   "source": [
    "#for Avgerage-Filled\n",
    "plt.figure(figsize=(20, 10))\n",
    "plot_tree(\n",
    "    dt_model_avg, \n",
    "    feature_names=df_features_filled_avg.columns, \n",
    "    class_names=[\"No Rain\", \"Rain\"], \n",
    "    filled=True, \n",
    "    rounded=True\n",
    ")\n",
    "plt.title(\"Decision Tree\")\n",
    "plt.show()\n",
    "    \n"
   ]
  },
  {
   "cell_type": "markdown",
   "metadata": {},
   "source": [
    ">#### Naive Bayes Algorithm"
   ]
  },
  {
   "cell_type": "code",
   "execution_count": 113,
   "metadata": {},
   "outputs": [],
   "source": [
    "# initialize the classifer\n",
    "model = GaussianNB()"
   ]
  },
  {
   "cell_type": "markdown",
   "metadata": {},
   "source": [
    ">#### Model the features with avg replacement"
   ]
  },
  {
   "cell_type": "code",
   "execution_count": 114,
   "metadata": {},
   "outputs": [
    {
     "name": "stdout",
     "output_type": "stream",
     "text": [
      "Avg data:\n",
      "Accuracy: 96.60% Precision: 100.00% Recall: 69.64%\n"
     ]
    }
   ],
   "source": [
    "# fit the model\n",
    "model.fit(df_features_train_avg, df_targets_train_avg)\n",
    "\n",
    "# predict the target values\n",
    "y_pred_avg = model.predict(df_features_test_avg)\n",
    "\n",
    "# evaluate the target values\n",
    "print(\"Avg data:\")\n",
    "\n",
    "nb_accuracy_avg , nb_precision_avg , nb_recall_avg = evaluateModels(df_targets_test_avg ,y_pred_avg )\n"
   ]
  },
  {
   "cell_type": "markdown",
   "metadata": {},
   "source": [
    ">#### Model the features with dropped nulls"
   ]
  },
  {
   "cell_type": "code",
   "execution_count": 115,
   "metadata": {},
   "outputs": [
    {
     "name": "stdout",
     "output_type": "stream",
     "text": [
      "Dropped Nulls data:\n",
      "Accuracy: 96.38% Precision: 100.00% Recall: 75.00%\n"
     ]
    }
   ],
   "source": [
    "# fit the model\n",
    "model.fit(df_features_train_dropped , df_targets_train_dropped)\n",
    "\n",
    "# predict the target values\n",
    "y_pred_dropped = model.predict(df_features_test_dropped)\n",
    "\n",
    "# evaluate the target values\n",
    "print(\"Dropped Nulls data:\")\n",
    "\n",
    "nb_accuracy_dropped , nb_precision_dropped , nb_recall_dropped = evaluateModels(df_targets_test_dropped ,y_pred_dropped )\n",
    "\n"
   ]
  },
  {
   "cell_type": "markdown",
   "metadata": {},
   "source": [
    "## Compare between Decision Tree, k-Nearest Neighbors (kNN) and naïve Bayes"
   ]
  },
  {
   "cell_type": "markdown",
   "metadata": {},
   "source": [
    "> #### Compare the performance of your implementations by evaluating accuracy, precision, and recall metrics. "
   ]
  },
  {
   "cell_type": "code",
   "execution_count": 116,
   "metadata": {},
   "outputs": [
    {
     "name": "stdout",
     "output_type": "stream",
     "text": [
      "\n",
      "Comparison of Models (Replacing Nulls with Mean)\n",
      "\n",
      "            Model  Accuracy (%)  Precision (%)  Recall (%)\n",
      "0       KNN(K=5)           96.8      91.666667   78.571429\n",
      "1  Decision Tree           99.4      98.181818   96.428571\n",
      "2    Naive Bayes           96.6     100.000000   69.642857\n"
     ]
    }
   ],
   "source": [
    "\n",
    "\n",
    "data = {\n",
    "    \"Model\": [\n",
    "        \"KNN(K=5) \",\n",
    "        \"Decision Tree \",\n",
    "        \"Naive Bayes \"\n",
    "    ],\n",
    "    \"Accuracy (%)\": [knn_accuracy_avg, dt_accuracy_avg, nb_accuracy_avg],\n",
    "    \"Precision (%)\": [knn_precision_avg, dt_precision_avg, nb_precision_avg],\n",
    "    \"Recall (%)\": [knn_recall_avg, dt_recall_avg, nb_recall_avg]\n",
    "}\n",
    "\n",
    "\n",
    "comparison_table = pd.DataFrame(data)\n",
    "\n",
    "print(\"\\nComparison of Models (Replacing Nulls with Mean)\\n\")\n",
    "print(comparison_table)"
   ]
  },
  {
   "cell_type": "markdown",
   "metadata": {},
   "source": [
    ">#### compare the performance of your custom kNN implementation with the pre-built kNN algorithms in scikit-learn"
   ]
  },
  {
   "cell_type": "code",
   "execution_count": 117,
   "metadata": {},
   "outputs": [
    {
     "name": "stdout",
     "output_type": "stream",
     "text": [
      "\n",
      "Comparison of KNN Implementations\n",
      "\n",
      "                          Model  Accuracy (%)  Precision (%)  Recall (%)\n",
      "0  KNN (Scratch Implementation)          96.8      91.666667   78.571429\n",
      "1  KNN (Library Implementation)          96.8      91.666667   78.571429\n"
     ]
    }
   ],
   "source": [
    "\n",
    "\n",
    "data = {\n",
    "    \"Model\": [\n",
    "        \"KNN (Scratch Implementation)\",\n",
    "        \"KNN (Library Implementation)\"\n",
    "    ],\n",
    "    \"Accuracy (%)\": [knn5_scratch_accuracy, knn_accuracy_avg],\n",
    "    \"Precision (%)\": [knn5_scratch_precision, knn_precision_avg],\n",
    "    \"Recall (%)\": [knn5_scratch_recall, knn_recall_avg]\n",
    "}\n",
    "\n",
    "comparison_table = pd.DataFrame(data)\n",
    "\n",
    "print(\"\\nComparison of KNN Implementations\\n\")\n",
    "print(comparison_table)\n",
    "\n"
   ]
  },
  {
   "cell_type": "markdown",
   "metadata": {},
   "source": [
    "> #### evaluating the performance of scikit learn implementations of 3 algorithms with respect to the different handling missing data technique. \n"
   ]
  },
  {
   "cell_type": "code",
   "execution_count": 118,
   "metadata": {},
   "outputs": [
    {
     "name": "stdout",
     "output_type": "stream",
     "text": [
      "\n",
      "Comparison of Models (Replacing Nulls with Mean)\n",
      "\n",
      "            Model  Accuracy (%)  Precision (%)  Recall (%)\n",
      "0       KNN(K=5)           96.8      91.666667   78.571429\n",
      "1  Decision Tree           99.4      98.181818   96.428571\n",
      "2    Naive Bayes           96.6     100.000000   69.642857\n",
      "\n",
      "Comparison of Models (Dropping Nulls)\n",
      "\n",
      "            Model  Accuracy (%)  Precision (%)  Recall (%)\n",
      "0       KNN(K=5)      95.957447      88.888889   82.352941\n",
      "1  Decision Tree     100.000000     100.000000  100.000000\n",
      "2    Naive Bayes      96.382979     100.000000   75.000000\n"
     ]
    }
   ],
   "source": [
    "data = {\n",
    "    \"Model\": [\n",
    "        \"KNN(K=5) \",\n",
    "        \"Decision Tree \",\n",
    "        \"Naive Bayes \"\n",
    "    ],\n",
    "    \"Accuracy (%)\": [knn_accuracy_avg, dt_accuracy_avg, nb_accuracy_avg],\n",
    "    \"Precision (%)\": [knn_precision_avg, dt_precision_avg, nb_precision_avg],\n",
    "    \"Recall (%)\": [knn_recall_avg, dt_recall_avg, nb_recall_avg]\n",
    "}\n",
    "\n",
    "\n",
    "comparison_table = pd.DataFrame(data)\n",
    "\n",
    "print(\"\\nComparison of Models (Replacing Nulls with Mean)\\n\")\n",
    "print(comparison_table)\n",
    "\n",
    "\n",
    "data = {\n",
    "    \"Model\": [\n",
    "        \"KNN(K=5) \",\n",
    "        \"Decision Tree \",\n",
    "        \"Naive Bayes \"\n",
    "    ],\n",
    "    \"Accuracy (%)\": [knn_accuracy_dropped, dt_accuracy_dropped, nb_accuracy_dropped],\n",
    "    \"Precision (%)\": [knn_precision_dropped, dt_precision_dropped, nb_precision_dropped],\n",
    "    \"Recall (%)\": [knn_recall_dropped, dt_recall_dropped, nb_recall_dropped]\n",
    "}\n",
    "\n",
    "\n",
    "comparison_table = pd.DataFrame(data)\n",
    "\n",
    "print(\"\\nComparison of Models (Dropping Nulls)\\n\")\n",
    "print(comparison_table)"
   ]
  },
  {
   "cell_type": "markdown",
   "metadata": {},
   "source": [
    "> #### evaluating the performance of your implementations of the k-Nearest Neighbors (kNN) from scratch with different k values at least 5 values. \n",
    "\n"
   ]
  },
  {
   "cell_type": "markdown",
   "metadata": {},
   "source": [
    "> #### Compare these results with the performance of the corresponding algorithms implemented using scikit-learn. "
   ]
  },
  {
   "cell_type": "code",
   "execution_count": 119,
   "metadata": {},
   "outputs": [
    {
     "name": "stdout",
     "output_type": "stream",
     "text": [
      "\n",
      "Comparison of Models (Including KNN from Scratch with Various K Values)\n",
      "\n",
      "                     Model  Accuracy (%)  Precision (%)  Recall (%)\n",
      "0       KNN (Scratch, K=3)          97.2      90.384615   83.928571\n",
      "1       KNN (Scratch, K=5)          96.8      91.666667   78.571429\n",
      "2       KNN (Scratch, K=7)          96.4      88.000000   78.571429\n",
      "3       KNN (Scratch, K=9)          96.6      88.235294   80.357143\n",
      "4      KNN (Scratch, K=11)          97.2      90.384615   83.928571\n",
      "5  KNN (scikit-learn, K=5)          96.8      91.666667   78.571429\n",
      "6            Decision Tree          99.4      98.181818   96.428571\n",
      "7              Naive Bayes          96.6     100.000000   69.642857\n"
     ]
    }
   ],
   "source": [
    "\n",
    "data = {\n",
    "    \"Model\": [\n",
    "        \"KNN (Scratch, K=3)\",\n",
    "        \"KNN (Scratch, K=5)\",\n",
    "        \"KNN (Scratch, K=7)\",\n",
    "        \"KNN (Scratch, K=9)\",\n",
    "        \"KNN (Scratch, K=11)\",\n",
    "        \"KNN (scikit-learn, K=5)\",\n",
    "        \"Decision Tree\",\n",
    "        \"Naive Bayes\"\n",
    "      \n",
    "    ],\n",
    "    \"Accuracy (%)\": [\n",
    "        knn3_scratch_accuracy, knn5_scratch_accuracy,\n",
    "        knn7_scratch_accuracy, knn9_scratch_accuracy,\n",
    "        knn11_scratch_accuracy,\n",
    "        knn_accuracy_avg, dt_accuracy_avg, nb_accuracy_avg\n",
    "       \n",
    "    ],\n",
    "    \"Precision (%)\": [\n",
    "        knn3_scratch_precision, knn5_scratch_precision,\n",
    "        knn7_scratch_precision, knn9_scratch_precision,\n",
    "        knn11_scratch_precision,\n",
    "        knn_precision_avg, dt_precision_avg, nb_precision_avg\n",
    "      \n",
    "    ],\n",
    "    \"Recall (%)\": [\n",
    "        knn3_scratch_recall, knn5_scratch_recall,\n",
    "        knn7_scratch_recall, knn9_scratch_recall,\n",
    "        knn11_scratch_recall,\n",
    "        knn_recall_avg, dt_recall_avg, nb_recall_avg\n",
    "        \n",
    "    ]\n",
    "}\n",
    "\n",
    "comparison_table = pd.DataFrame(data)\n",
    "\n",
    "print(\"\\nComparison of Models (Including KNN from Scratch with Various K Values)\\n\")\n",
    "print(comparison_table)\n",
    "\n",
    "\n"
   ]
  }
 ],
 "metadata": {
  "kernelspec": {
   "display_name": "Python 3",
   "language": "python",
   "name": "python3"
  },
  "language_info": {
   "codemirror_mode": {
    "name": "ipython",
    "version": 3
   },
   "file_extension": ".py",
   "mimetype": "text/x-python",
   "name": "python",
   "nbconvert_exporter": "python",
   "pygments_lexer": "ipython3",
   "version": "3.11.9"
  }
 },
 "nbformat": 4,
 "nbformat_minor": 2
}
